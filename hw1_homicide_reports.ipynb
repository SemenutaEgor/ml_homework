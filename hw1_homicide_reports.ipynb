{
  "nbformat": 4,
  "nbformat_minor": 0,
  "metadata": {
    "colab": {
      "name": "hw1_homicide_reports.ipynb",
      "provenance": [],
      "collapsed_sections": [],
      "machine_shape": "hm",
      "authorship_tag": "ABX9TyNZLhHCVPdjs8jIg5pKp5px",
      "include_colab_link": true
    },
    "kernelspec": {
      "display_name": "Python 3",
      "name": "python3"
    },
    "language_info": {
      "name": "python"
    }
  },
  "cells": [
    {
      "cell_type": "markdown",
      "metadata": {
        "id": "view-in-github",
        "colab_type": "text"
      },
      "source": [
        "<a href=\"https://colab.research.google.com/github/SemenutaEgor/ml_homework/blob/master/hw1_homicide_reports.ipynb\" target=\"_parent\"><img src=\"https://colab.research.google.com/assets/colab-badge.svg\" alt=\"Open In Colab\"/></a>"
      ]
    },
    {
      "cell_type": "markdown",
      "metadata": {
        "id": "-XfA3Ok1pWqF"
      },
      "source": [
        "# Описание задачи\n",
        "Есть данные о 638454 убийствах в США в период с 1980 по 2014 год. Каждый отчёт включает в себя такие признаки:\n",
        "<ol>\n",
        "    <li>Номер записи</li>\n",
        "    <li>Код, название и тип агенства</li>\n",
        "    <li>Город и штат</li>\n",
        "    <li>Год и месяц</li>\n",
        "    <li>Инцидент (количество)</li>\n",
        "    <li>Тип преступления</li>\n",
        "    <li>Раскрыто преступление или нет</li>\n",
        "    <li>Пол, возраст, раса и этническая принадлежность жертвы</li>\n",
        "    <li>Пол, возраст, раса и этническая принадлежность преступника</li>\n",
        "    <li>Отношения между преступником и жертвой</li>\n",
        "    <li>Оружие</li>\n",
        "    <li>Количество жертв и преступников</li>\n",
        "    <li>Источник отчёта</li>\n",
        "</ol>\n",
        "\n",
        "Задача такая: определить было ли дело раскрыто.\n",
        "\n",
        "# Прочитаем данные\n",
        "\n",
        "Загружаем нужные библиотеки"
      ]
    },
    {
      "cell_type": "code",
      "metadata": {
        "id": "-yQYw194prhC"
      },
      "source": [
        "import numpy as np\n",
        "import matplotlib.pyplot as plt\n",
        "import pandas as pd\n",
        "import seaborn as sns           \n",
        "import sklearn   "
      ],
      "execution_count": null,
      "outputs": []
    },
    {
      "cell_type": "code",
      "metadata": {
        "colab": {
          "resources": {
            "http://localhost:8080/nbextensions/google.colab/files.js": {
              "data": "Ly8gQ29weXJpZ2h0IDIwMTcgR29vZ2xlIExMQwovLwovLyBMaWNlbnNlZCB1bmRlciB0aGUgQXBhY2hlIExpY2Vuc2UsIFZlcnNpb24gMi4wICh0aGUgIkxpY2Vuc2UiKTsKLy8geW91IG1heSBub3QgdXNlIHRoaXMgZmlsZSBleGNlcHQgaW4gY29tcGxpYW5jZSB3aXRoIHRoZSBMaWNlbnNlLgovLyBZb3UgbWF5IG9idGFpbiBhIGNvcHkgb2YgdGhlIExpY2Vuc2UgYXQKLy8KLy8gICAgICBodHRwOi8vd3d3LmFwYWNoZS5vcmcvbGljZW5zZXMvTElDRU5TRS0yLjAKLy8KLy8gVW5sZXNzIHJlcXVpcmVkIGJ5IGFwcGxpY2FibGUgbGF3IG9yIGFncmVlZCB0byBpbiB3cml0aW5nLCBzb2Z0d2FyZQovLyBkaXN0cmlidXRlZCB1bmRlciB0aGUgTGljZW5zZSBpcyBkaXN0cmlidXRlZCBvbiBhbiAiQVMgSVMiIEJBU0lTLAovLyBXSVRIT1VUIFdBUlJBTlRJRVMgT1IgQ09ORElUSU9OUyBPRiBBTlkgS0lORCwgZWl0aGVyIGV4cHJlc3Mgb3IgaW1wbGllZC4KLy8gU2VlIHRoZSBMaWNlbnNlIGZvciB0aGUgc3BlY2lmaWMgbGFuZ3VhZ2UgZ292ZXJuaW5nIHBlcm1pc3Npb25zIGFuZAovLyBsaW1pdGF0aW9ucyB1bmRlciB0aGUgTGljZW5zZS4KCi8qKgogKiBAZmlsZW92ZXJ2aWV3IEhlbHBlcnMgZm9yIGdvb2dsZS5jb2xhYiBQeXRob24gbW9kdWxlLgogKi8KKGZ1bmN0aW9uKHNjb3BlKSB7CmZ1bmN0aW9uIHNwYW4odGV4dCwgc3R5bGVBdHRyaWJ1dGVzID0ge30pIHsKICBjb25zdCBlbGVtZW50ID0gZG9jdW1lbnQuY3JlYXRlRWxlbWVudCgnc3BhbicpOwogIGVsZW1lbnQudGV4dENvbnRlbnQgPSB0ZXh0OwogIGZvciAoY29uc3Qga2V5IG9mIE9iamVjdC5rZXlzKHN0eWxlQXR0cmlidXRlcykpIHsKICAgIGVsZW1lbnQuc3R5bGVba2V5XSA9IHN0eWxlQXR0cmlidXRlc1trZXldOwogIH0KICByZXR1cm4gZWxlbWVudDsKfQoKLy8gTWF4IG51bWJlciBvZiBieXRlcyB3aGljaCB3aWxsIGJlIHVwbG9hZGVkIGF0IGEgdGltZS4KY29uc3QgTUFYX1BBWUxPQURfU0laRSA9IDEwMCAqIDEwMjQ7CgpmdW5jdGlvbiBfdXBsb2FkRmlsZXMoaW5wdXRJZCwgb3V0cHV0SWQpIHsKICBjb25zdCBzdGVwcyA9IHVwbG9hZEZpbGVzU3RlcChpbnB1dElkLCBvdXRwdXRJZCk7CiAgY29uc3Qgb3V0cHV0RWxlbWVudCA9IGRvY3VtZW50LmdldEVsZW1lbnRCeUlkKG91dHB1dElkKTsKICAvLyBDYWNoZSBzdGVwcyBvbiB0aGUgb3V0cHV0RWxlbWVudCB0byBtYWtlIGl0IGF2YWlsYWJsZSBmb3IgdGhlIG5leHQgY2FsbAogIC8vIHRvIHVwbG9hZEZpbGVzQ29udGludWUgZnJvbSBQeXRob24uCiAgb3V0cHV0RWxlbWVudC5zdGVwcyA9IHN0ZXBzOwoKICByZXR1cm4gX3VwbG9hZEZpbGVzQ29udGludWUob3V0cHV0SWQpOwp9CgovLyBUaGlzIGlzIHJvdWdobHkgYW4gYXN5bmMgZ2VuZXJhdG9yIChub3Qgc3VwcG9ydGVkIGluIHRoZSBicm93c2VyIHlldCksCi8vIHdoZXJlIHRoZXJlIGFyZSBtdWx0aXBsZSBhc3luY2hyb25vdXMgc3RlcHMgYW5kIHRoZSBQeXRob24gc2lkZSBpcyBnb2luZwovLyB0byBwb2xsIGZvciBjb21wbGV0aW9uIG9mIGVhY2ggc3RlcC4KLy8gVGhpcyB1c2VzIGEgUHJvbWlzZSB0byBibG9jayB0aGUgcHl0aG9uIHNpZGUgb24gY29tcGxldGlvbiBvZiBlYWNoIHN0ZXAsCi8vIHRoZW4gcGFzc2VzIHRoZSByZXN1bHQgb2YgdGhlIHByZXZpb3VzIHN0ZXAgYXMgdGhlIGlucHV0IHRvIHRoZSBuZXh0IHN0ZXAuCmZ1bmN0aW9uIF91cGxvYWRGaWxlc0NvbnRpbnVlKG91dHB1dElkKSB7CiAgY29uc3Qgb3V0cHV0RWxlbWVudCA9IGRvY3VtZW50LmdldEVsZW1lbnRCeUlkKG91dHB1dElkKTsKICBjb25zdCBzdGVwcyA9IG91dHB1dEVsZW1lbnQuc3RlcHM7CgogIGNvbnN0IG5leHQgPSBzdGVwcy5uZXh0KG91dHB1dEVsZW1lbnQubGFzdFByb21pc2VWYWx1ZSk7CiAgcmV0dXJuIFByb21pc2UucmVzb2x2ZShuZXh0LnZhbHVlLnByb21pc2UpLnRoZW4oKHZhbHVlKSA9PiB7CiAgICAvLyBDYWNoZSB0aGUgbGFzdCBwcm9taXNlIHZhbHVlIHRvIG1ha2UgaXQgYXZhaWxhYmxlIHRvIHRoZSBuZXh0CiAgICAvLyBzdGVwIG9mIHRoZSBnZW5lcmF0b3IuCiAgICBvdXRwdXRFbGVtZW50Lmxhc3RQcm9taXNlVmFsdWUgPSB2YWx1ZTsKICAgIHJldHVybiBuZXh0LnZhbHVlLnJlc3BvbnNlOwogIH0pOwp9CgovKioKICogR2VuZXJhdG9yIGZ1bmN0aW9uIHdoaWNoIGlzIGNhbGxlZCBiZXR3ZWVuIGVhY2ggYXN5bmMgc3RlcCBvZiB0aGUgdXBsb2FkCiAqIHByb2Nlc3MuCiAqIEBwYXJhbSB7c3RyaW5nfSBpbnB1dElkIEVsZW1lbnQgSUQgb2YgdGhlIGlucHV0IGZpbGUgcGlja2VyIGVsZW1lbnQuCiAqIEBwYXJhbSB7c3RyaW5nfSBvdXRwdXRJZCBFbGVtZW50IElEIG9mIHRoZSBvdXRwdXQgZGlzcGxheS4KICogQHJldHVybiB7IUl0ZXJhYmxlPCFPYmplY3Q+fSBJdGVyYWJsZSBvZiBuZXh0IHN0ZXBzLgogKi8KZnVuY3Rpb24qIHVwbG9hZEZpbGVzU3RlcChpbnB1dElkLCBvdXRwdXRJZCkgewogIGNvbnN0IGlucHV0RWxlbWVudCA9IGRvY3VtZW50LmdldEVsZW1lbnRCeUlkKGlucHV0SWQpOwogIGlucHV0RWxlbWVudC5kaXNhYmxlZCA9IGZhbHNlOwoKICBjb25zdCBvdXRwdXRFbGVtZW50ID0gZG9jdW1lbnQuZ2V0RWxlbWVudEJ5SWQob3V0cHV0SWQpOwogIG91dHB1dEVsZW1lbnQuaW5uZXJIVE1MID0gJyc7CgogIGNvbnN0IHBpY2tlZFByb21pc2UgPSBuZXcgUHJvbWlzZSgocmVzb2x2ZSkgPT4gewogICAgaW5wdXRFbGVtZW50LmFkZEV2ZW50TGlzdGVuZXIoJ2NoYW5nZScsIChlKSA9PiB7CiAgICAgIHJlc29sdmUoZS50YXJnZXQuZmlsZXMpOwogICAgfSk7CiAgfSk7CgogIGNvbnN0IGNhbmNlbCA9IGRvY3VtZW50LmNyZWF0ZUVsZW1lbnQoJ2J1dHRvbicpOwogIGlucHV0RWxlbWVudC5wYXJlbnRFbGVtZW50LmFwcGVuZENoaWxkKGNhbmNlbCk7CiAgY2FuY2VsLnRleHRDb250ZW50ID0gJ0NhbmNlbCB1cGxvYWQnOwogIGNvbnN0IGNhbmNlbFByb21pc2UgPSBuZXcgUHJvbWlzZSgocmVzb2x2ZSkgPT4gewogICAgY2FuY2VsLm9uY2xpY2sgPSAoKSA9PiB7CiAgICAgIHJlc29sdmUobnVsbCk7CiAgICB9OwogIH0pOwoKICAvLyBXYWl0IGZvciB0aGUgdXNlciB0byBwaWNrIHRoZSBmaWxlcy4KICBjb25zdCBmaWxlcyA9IHlpZWxkIHsKICAgIHByb21pc2U6IFByb21pc2UucmFjZShbcGlja2VkUHJvbWlzZSwgY2FuY2VsUHJvbWlzZV0pLAogICAgcmVzcG9uc2U6IHsKICAgICAgYWN0aW9uOiAnc3RhcnRpbmcnLAogICAgfQogIH07CgogIGNhbmNlbC5yZW1vdmUoKTsKCiAgLy8gRGlzYWJsZSB0aGUgaW5wdXQgZWxlbWVudCBzaW5jZSBmdXJ0aGVyIHBpY2tzIGFyZSBub3QgYWxsb3dlZC4KICBpbnB1dEVsZW1lbnQuZGlzYWJsZWQgPSB0cnVlOwoKICBpZiAoIWZpbGVzKSB7CiAgICByZXR1cm4gewogICAgICByZXNwb25zZTogewogICAgICAgIGFjdGlvbjogJ2NvbXBsZXRlJywKICAgICAgfQogICAgfTsKICB9CgogIGZvciAoY29uc3QgZmlsZSBvZiBmaWxlcykgewogICAgY29uc3QgbGkgPSBkb2N1bWVudC5jcmVhdGVFbGVtZW50KCdsaScpOwogICAgbGkuYXBwZW5kKHNwYW4oZmlsZS5uYW1lLCB7Zm9udFdlaWdodDogJ2JvbGQnfSkpOwogICAgbGkuYXBwZW5kKHNwYW4oCiAgICAgICAgYCgke2ZpbGUudHlwZSB8fCAnbi9hJ30pIC0gJHtmaWxlLnNpemV9IGJ5dGVzLCBgICsKICAgICAgICBgbGFzdCBtb2RpZmllZDogJHsKICAgICAgICAgICAgZmlsZS5sYXN0TW9kaWZpZWREYXRlID8gZmlsZS5sYXN0TW9kaWZpZWREYXRlLnRvTG9jYWxlRGF0ZVN0cmluZygpIDoKICAgICAgICAgICAgICAgICAgICAgICAgICAgICAgICAgICAgJ24vYSd9IC0gYCkpOwogICAgY29uc3QgcGVyY2VudCA9IHNwYW4oJzAlIGRvbmUnKTsKICAgIGxpLmFwcGVuZENoaWxkKHBlcmNlbnQpOwoKICAgIG91dHB1dEVsZW1lbnQuYXBwZW5kQ2hpbGQobGkpOwoKICAgIGNvbnN0IGZpbGVEYXRhUHJvbWlzZSA9IG5ldyBQcm9taXNlKChyZXNvbHZlKSA9PiB7CiAgICAgIGNvbnN0IHJlYWRlciA9IG5ldyBGaWxlUmVhZGVyKCk7CiAgICAgIHJlYWRlci5vbmxvYWQgPSAoZSkgPT4gewogICAgICAgIHJlc29sdmUoZS50YXJnZXQucmVzdWx0KTsKICAgICAgfTsKICAgICAgcmVhZGVyLnJlYWRBc0FycmF5QnVmZmVyKGZpbGUpOwogICAgfSk7CiAgICAvLyBXYWl0IGZvciB0aGUgZGF0YSB0byBiZSByZWFkeS4KICAgIGxldCBmaWxlRGF0YSA9IHlpZWxkIHsKICAgICAgcHJvbWlzZTogZmlsZURhdGFQcm9taXNlLAogICAgICByZXNwb25zZTogewogICAgICAgIGFjdGlvbjogJ2NvbnRpbnVlJywKICAgICAgfQogICAgfTsKCiAgICAvLyBVc2UgYSBjaHVua2VkIHNlbmRpbmcgdG8gYXZvaWQgbWVzc2FnZSBzaXplIGxpbWl0cy4gU2VlIGIvNjIxMTU2NjAuCiAgICBsZXQgcG9zaXRpb24gPSAwOwogICAgZG8gewogICAgICBjb25zdCBsZW5ndGggPSBNYXRoLm1pbihmaWxlRGF0YS5ieXRlTGVuZ3RoIC0gcG9zaXRpb24sIE1BWF9QQVlMT0FEX1NJWkUpOwogICAgICBjb25zdCBjaHVuayA9IG5ldyBVaW50OEFycmF5KGZpbGVEYXRhLCBwb3NpdGlvbiwgbGVuZ3RoKTsKICAgICAgcG9zaXRpb24gKz0gbGVuZ3RoOwoKICAgICAgY29uc3QgYmFzZTY0ID0gYnRvYShTdHJpbmcuZnJvbUNoYXJDb2RlLmFwcGx5KG51bGwsIGNodW5rKSk7CiAgICAgIHlpZWxkIHsKICAgICAgICByZXNwb25zZTogewogICAgICAgICAgYWN0aW9uOiAnYXBwZW5kJywKICAgICAgICAgIGZpbGU6IGZpbGUubmFtZSwKICAgICAgICAgIGRhdGE6IGJhc2U2NCwKICAgICAgICB9LAogICAgICB9OwoKICAgICAgbGV0IHBlcmNlbnREb25lID0gZmlsZURhdGEuYnl0ZUxlbmd0aCA9PT0gMCA/CiAgICAgICAgICAxMDAgOgogICAgICAgICAgTWF0aC5yb3VuZCgocG9zaXRpb24gLyBmaWxlRGF0YS5ieXRlTGVuZ3RoKSAqIDEwMCk7CiAgICAgIHBlcmNlbnQudGV4dENvbnRlbnQgPSBgJHtwZXJjZW50RG9uZX0lIGRvbmVgOwoKICAgIH0gd2hpbGUgKHBvc2l0aW9uIDwgZmlsZURhdGEuYnl0ZUxlbmd0aCk7CiAgfQoKICAvLyBBbGwgZG9uZS4KICB5aWVsZCB7CiAgICByZXNwb25zZTogewogICAgICBhY3Rpb246ICdjb21wbGV0ZScsCiAgICB9CiAgfTsKfQoKc2NvcGUuZ29vZ2xlID0gc2NvcGUuZ29vZ2xlIHx8IHt9OwpzY29wZS5nb29nbGUuY29sYWIgPSBzY29wZS5nb29nbGUuY29sYWIgfHwge307CnNjb3BlLmdvb2dsZS5jb2xhYi5fZmlsZXMgPSB7CiAgX3VwbG9hZEZpbGVzLAogIF91cGxvYWRGaWxlc0NvbnRpbnVlLAp9Owp9KShzZWxmKTsK",
              "ok": true,
              "headers": [
                [
                  "content-type",
                  "application/javascript"
                ]
              ],
              "status": 200,
              "status_text": ""
            }
          },
          "base_uri": "https://localhost:8080/",
          "height": 89
        },
        "id": "KMbcobwAxz-l",
        "outputId": "b1e8da4a-510a-41e4-a223-2c9aad4871b2"
      },
      "source": [
        "from google.colab import files \n",
        "files.upload()"
      ],
      "execution_count": null,
      "outputs": [
        {
          "output_type": "display_data",
          "data": {
            "text/html": [
              "\n",
              "     <input type=\"file\" id=\"files-b26e3caf-0005-4488-8103-a0b09a75ccff\" name=\"files[]\" multiple disabled\n",
              "        style=\"border:none\" />\n",
              "     <output id=\"result-b26e3caf-0005-4488-8103-a0b09a75ccff\">\n",
              "      Upload widget is only available when the cell has been executed in the\n",
              "      current browser session. Please rerun this cell to enable.\n",
              "      </output>\n",
              "      <script src=\"/nbextensions/google.colab/files.js\"></script> "
            ],
            "text/plain": [
              "<IPython.core.display.HTML object>"
            ]
          },
          "metadata": {}
        },
        {
          "output_type": "stream",
          "name": "stdout",
          "text": [
            "Saving kaggle.json to kaggle.json\n"
          ]
        },
        {
          "output_type": "execute_result",
          "data": {
            "text/plain": [
              "{'kaggle.json': b'{\"username\":\"egorsemenuta\",\"key\":\"59b2ac75bf5f577692b3d5b6fbf5424e\"}'}"
            ]
          },
          "metadata": {},
          "execution_count": 2
        }
      ]
    },
    {
      "cell_type": "code",
      "metadata": {
        "id": "DYcti6F2yIF9"
      },
      "source": [
        "!pip install -q kaggle"
      ],
      "execution_count": null,
      "outputs": []
    },
    {
      "cell_type": "code",
      "metadata": {
        "id": "7RGKAIbhyPrX"
      },
      "source": [
        "!mkdir -p ~/.kaggle \n",
        "!cp kaggle.json ~/.kaggle/\n",
        "!chmod 600 ~/.kaggle/kaggle.json"
      ],
      "execution_count": null,
      "outputs": []
    },
    {
      "cell_type": "code",
      "metadata": {
        "colab": {
          "base_uri": "https://localhost:8080/"
        },
        "id": "dOlB62Zt5nSx",
        "outputId": "cedc81f9-b92b-4742-b757-36fd5085d9c0"
      },
      "source": [
        "!kaggle datasets download -d murderaccountability/homicide-reports"
      ],
      "execution_count": null,
      "outputs": [
        {
          "output_type": "stream",
          "name": "stdout",
          "text": [
            "Downloading homicide-reports.zip to /content\n",
            "  0% 0.00/9.83M [00:00<?, ?B/s]\n",
            "100% 9.83M/9.83M [00:00<00:00, 89.7MB/s]\n"
          ]
        }
      ]
    },
    {
      "cell_type": "code",
      "metadata": {
        "colab": {
          "base_uri": "https://localhost:8080/"
        },
        "id": "u3WZwzVg1H3w",
        "outputId": "a7bd7216-872a-42f3-e62c-edf43c9621ba"
      },
      "source": [
        "!ls"
      ],
      "execution_count": null,
      "outputs": [
        {
          "output_type": "stream",
          "name": "stdout",
          "text": [
            "homicide-reports.zip  kaggle.json  sample_data\n"
          ]
        }
      ]
    },
    {
      "cell_type": "code",
      "metadata": {
        "colab": {
          "base_uri": "https://localhost:8080/"
        },
        "id": "jh4B9UWm6aAP",
        "outputId": "5021d8b5-6557-42c1-a453-a9f0ca5c1eef"
      },
      "source": [
        "!unzip homicide-reports.zip"
      ],
      "execution_count": null,
      "outputs": [
        {
          "output_type": "stream",
          "name": "stdout",
          "text": [
            "Archive:  homicide-reports.zip\n",
            "  inflating: database.csv            \n"
          ]
        }
      ]
    },
    {
      "cell_type": "code",
      "metadata": {
        "id": "QAQAfSlv6zQF"
      },
      "source": [
        "data = pd.read_csv(\"database.csv\", low_memory = False, sep = ',')"
      ],
      "execution_count": null,
      "outputs": []
    },
    {
      "cell_type": "code",
      "metadata": {
        "colab": {
          "base_uri": "https://localhost:8080/"
        },
        "id": "6FTEKKbF9afz",
        "outputId": "306ededb-e9fe-4568-a549-fdc6dc8412b4"
      },
      "source": [
        "data.shape"
      ],
      "execution_count": null,
      "outputs": [
        {
          "output_type": "execute_result",
          "data": {
            "text/plain": [
              "(638454, 24)"
            ]
          },
          "metadata": {},
          "execution_count": 9
        }
      ]
    },
    {
      "cell_type": "markdown",
      "metadata": {
        "id": "V5JmadWAB6Pf"
      },
      "source": [
        "Немного обрежем, иначе потом не хватает RAM для вычислений."
      ]
    },
    {
      "cell_type": "code",
      "metadata": {
        "id": "i6lR4SdKBe-z"
      },
      "source": [
        "rows_to_drop = data[(data['Record ID'] > 100000)].index"
      ],
      "execution_count": null,
      "outputs": []
    },
    {
      "cell_type": "code",
      "metadata": {
        "colab": {
          "base_uri": "https://localhost:8080/"
        },
        "id": "A3MGJ9XGBPrH",
        "outputId": "8aac31fc-fd72-486b-e67f-4c0b286e50b3"
      },
      "source": [
        "data = data.drop(rows_to_drop)\n",
        "data.shape"
      ],
      "execution_count": null,
      "outputs": [
        {
          "output_type": "execute_result",
          "data": {
            "text/plain": [
              "(100000, 24)"
            ]
          },
          "metadata": {},
          "execution_count": 11
        }
      ]
    },
    {
      "cell_type": "code",
      "metadata": {
        "id": "sC95z-kKP24D"
      },
      "source": [
        "del data['Record ID']\n",
        "del data['Agency Code']\n",
        "del data['Agency Name']\n",
        "del data['State']\n",
        "del data['Year']"
      ],
      "execution_count": null,
      "outputs": []
    },
    {
      "cell_type": "code",
      "metadata": {
        "colab": {
          "base_uri": "https://localhost:8080/"
        },
        "id": "hb_6wbvMQMOK",
        "outputId": "1a7ee7e1-b90c-4e39-ec54-d2d8098a44bc"
      },
      "source": [
        "data.shape"
      ],
      "execution_count": null,
      "outputs": [
        {
          "output_type": "execute_result",
          "data": {
            "text/plain": [
              "(100000, 19)"
            ]
          },
          "metadata": {},
          "execution_count": 13
        }
      ]
    },
    {
      "cell_type": "markdown",
      "metadata": {
        "id": "m9M2AdYRGUWR"
      },
      "source": [
        "# Визуализация данных и вычисление основных характеристик\n",
        "\n",
        "Таблица:"
      ]
    },
    {
      "cell_type": "code",
      "metadata": {
        "colab": {
          "base_uri": "https://localhost:8080/",
          "height": 677
        },
        "id": "7yfNfNkpAVRB",
        "outputId": "16b0fd22-694f-4aae-e582-1127f5e0d5f1"
      },
      "source": [
        "data"
      ],
      "execution_count": null,
      "outputs": [
        {
          "output_type": "execute_result",
          "data": {
            "text/html": [
              "<div>\n",
              "<style scoped>\n",
              "    .dataframe tbody tr th:only-of-type {\n",
              "        vertical-align: middle;\n",
              "    }\n",
              "\n",
              "    .dataframe tbody tr th {\n",
              "        vertical-align: top;\n",
              "    }\n",
              "\n",
              "    .dataframe thead th {\n",
              "        text-align: right;\n",
              "    }\n",
              "</style>\n",
              "<table border=\"1\" class=\"dataframe\">\n",
              "  <thead>\n",
              "    <tr style=\"text-align: right;\">\n",
              "      <th></th>\n",
              "      <th>Agency Type</th>\n",
              "      <th>City</th>\n",
              "      <th>Month</th>\n",
              "      <th>Incident</th>\n",
              "      <th>Crime Type</th>\n",
              "      <th>Crime Solved</th>\n",
              "      <th>Victim Sex</th>\n",
              "      <th>Victim Age</th>\n",
              "      <th>Victim Race</th>\n",
              "      <th>Victim Ethnicity</th>\n",
              "      <th>Perpetrator Sex</th>\n",
              "      <th>Perpetrator Age</th>\n",
              "      <th>Perpetrator Race</th>\n",
              "      <th>Perpetrator Ethnicity</th>\n",
              "      <th>Relationship</th>\n",
              "      <th>Weapon</th>\n",
              "      <th>Victim Count</th>\n",
              "      <th>Perpetrator Count</th>\n",
              "      <th>Record Source</th>\n",
              "    </tr>\n",
              "  </thead>\n",
              "  <tbody>\n",
              "    <tr>\n",
              "      <th>0</th>\n",
              "      <td>Municipal Police</td>\n",
              "      <td>Anchorage</td>\n",
              "      <td>January</td>\n",
              "      <td>1</td>\n",
              "      <td>Murder or Manslaughter</td>\n",
              "      <td>Yes</td>\n",
              "      <td>Male</td>\n",
              "      <td>14</td>\n",
              "      <td>Native American/Alaska Native</td>\n",
              "      <td>Unknown</td>\n",
              "      <td>Male</td>\n",
              "      <td>15</td>\n",
              "      <td>Native American/Alaska Native</td>\n",
              "      <td>Unknown</td>\n",
              "      <td>Acquaintance</td>\n",
              "      <td>Blunt Object</td>\n",
              "      <td>0</td>\n",
              "      <td>0</td>\n",
              "      <td>FBI</td>\n",
              "    </tr>\n",
              "    <tr>\n",
              "      <th>1</th>\n",
              "      <td>Municipal Police</td>\n",
              "      <td>Anchorage</td>\n",
              "      <td>March</td>\n",
              "      <td>1</td>\n",
              "      <td>Murder or Manslaughter</td>\n",
              "      <td>Yes</td>\n",
              "      <td>Male</td>\n",
              "      <td>43</td>\n",
              "      <td>White</td>\n",
              "      <td>Unknown</td>\n",
              "      <td>Male</td>\n",
              "      <td>42</td>\n",
              "      <td>White</td>\n",
              "      <td>Unknown</td>\n",
              "      <td>Acquaintance</td>\n",
              "      <td>Strangulation</td>\n",
              "      <td>0</td>\n",
              "      <td>0</td>\n",
              "      <td>FBI</td>\n",
              "    </tr>\n",
              "    <tr>\n",
              "      <th>2</th>\n",
              "      <td>Municipal Police</td>\n",
              "      <td>Anchorage</td>\n",
              "      <td>March</td>\n",
              "      <td>2</td>\n",
              "      <td>Murder or Manslaughter</td>\n",
              "      <td>No</td>\n",
              "      <td>Female</td>\n",
              "      <td>30</td>\n",
              "      <td>Native American/Alaska Native</td>\n",
              "      <td>Unknown</td>\n",
              "      <td>Unknown</td>\n",
              "      <td>0</td>\n",
              "      <td>Unknown</td>\n",
              "      <td>Unknown</td>\n",
              "      <td>Unknown</td>\n",
              "      <td>Unknown</td>\n",
              "      <td>0</td>\n",
              "      <td>0</td>\n",
              "      <td>FBI</td>\n",
              "    </tr>\n",
              "    <tr>\n",
              "      <th>3</th>\n",
              "      <td>Municipal Police</td>\n",
              "      <td>Anchorage</td>\n",
              "      <td>April</td>\n",
              "      <td>1</td>\n",
              "      <td>Murder or Manslaughter</td>\n",
              "      <td>Yes</td>\n",
              "      <td>Male</td>\n",
              "      <td>43</td>\n",
              "      <td>White</td>\n",
              "      <td>Unknown</td>\n",
              "      <td>Male</td>\n",
              "      <td>42</td>\n",
              "      <td>White</td>\n",
              "      <td>Unknown</td>\n",
              "      <td>Acquaintance</td>\n",
              "      <td>Strangulation</td>\n",
              "      <td>0</td>\n",
              "      <td>0</td>\n",
              "      <td>FBI</td>\n",
              "    </tr>\n",
              "    <tr>\n",
              "      <th>4</th>\n",
              "      <td>Municipal Police</td>\n",
              "      <td>Anchorage</td>\n",
              "      <td>April</td>\n",
              "      <td>2</td>\n",
              "      <td>Murder or Manslaughter</td>\n",
              "      <td>No</td>\n",
              "      <td>Female</td>\n",
              "      <td>30</td>\n",
              "      <td>Native American/Alaska Native</td>\n",
              "      <td>Unknown</td>\n",
              "      <td>Unknown</td>\n",
              "      <td>0</td>\n",
              "      <td>Unknown</td>\n",
              "      <td>Unknown</td>\n",
              "      <td>Unknown</td>\n",
              "      <td>Unknown</td>\n",
              "      <td>0</td>\n",
              "      <td>1</td>\n",
              "      <td>FBI</td>\n",
              "    </tr>\n",
              "    <tr>\n",
              "      <th>...</th>\n",
              "      <td>...</td>\n",
              "      <td>...</td>\n",
              "      <td>...</td>\n",
              "      <td>...</td>\n",
              "      <td>...</td>\n",
              "      <td>...</td>\n",
              "      <td>...</td>\n",
              "      <td>...</td>\n",
              "      <td>...</td>\n",
              "      <td>...</td>\n",
              "      <td>...</td>\n",
              "      <td>...</td>\n",
              "      <td>...</td>\n",
              "      <td>...</td>\n",
              "      <td>...</td>\n",
              "      <td>...</td>\n",
              "      <td>...</td>\n",
              "      <td>...</td>\n",
              "      <td>...</td>\n",
              "    </tr>\n",
              "    <tr>\n",
              "      <th>99995</th>\n",
              "      <td>Municipal Police</td>\n",
              "      <td>Jackson</td>\n",
              "      <td>July</td>\n",
              "      <td>1</td>\n",
              "      <td>Murder or Manslaughter</td>\n",
              "      <td>Yes</td>\n",
              "      <td>Male</td>\n",
              "      <td>22</td>\n",
              "      <td>Black</td>\n",
              "      <td>Not Hispanic</td>\n",
              "      <td>Male</td>\n",
              "      <td>22</td>\n",
              "      <td>Black</td>\n",
              "      <td>Not Hispanic</td>\n",
              "      <td>Acquaintance</td>\n",
              "      <td>Handgun</td>\n",
              "      <td>0</td>\n",
              "      <td>0</td>\n",
              "      <td>FBI</td>\n",
              "    </tr>\n",
              "    <tr>\n",
              "      <th>99996</th>\n",
              "      <td>Sheriff</td>\n",
              "      <td>Jasper</td>\n",
              "      <td>September</td>\n",
              "      <td>1</td>\n",
              "      <td>Murder or Manslaughter</td>\n",
              "      <td>Yes</td>\n",
              "      <td>Male</td>\n",
              "      <td>32</td>\n",
              "      <td>White</td>\n",
              "      <td>Hispanic</td>\n",
              "      <td>Male</td>\n",
              "      <td>21</td>\n",
              "      <td>White</td>\n",
              "      <td>Hispanic</td>\n",
              "      <td>Acquaintance</td>\n",
              "      <td>Shotgun</td>\n",
              "      <td>0</td>\n",
              "      <td>1</td>\n",
              "      <td>FBI</td>\n",
              "    </tr>\n",
              "    <tr>\n",
              "      <th>99997</th>\n",
              "      <td>Sheriff</td>\n",
              "      <td>Jefferson</td>\n",
              "      <td>March</td>\n",
              "      <td>1</td>\n",
              "      <td>Murder or Manslaughter</td>\n",
              "      <td>Yes</td>\n",
              "      <td>Female</td>\n",
              "      <td>23</td>\n",
              "      <td>White</td>\n",
              "      <td>Not Hispanic</td>\n",
              "      <td>Male</td>\n",
              "      <td>39</td>\n",
              "      <td>White</td>\n",
              "      <td>Not Hispanic</td>\n",
              "      <td>Stranger</td>\n",
              "      <td>Knife</td>\n",
              "      <td>0</td>\n",
              "      <td>0</td>\n",
              "      <td>FBI</td>\n",
              "    </tr>\n",
              "    <tr>\n",
              "      <th>99998</th>\n",
              "      <td>Sheriff</td>\n",
              "      <td>Jefferson</td>\n",
              "      <td>July</td>\n",
              "      <td>1</td>\n",
              "      <td>Murder or Manslaughter</td>\n",
              "      <td>Yes</td>\n",
              "      <td>Female</td>\n",
              "      <td>69</td>\n",
              "      <td>White</td>\n",
              "      <td>Not Hispanic</td>\n",
              "      <td>Male</td>\n",
              "      <td>19</td>\n",
              "      <td>White</td>\n",
              "      <td>Not Hispanic</td>\n",
              "      <td>Family</td>\n",
              "      <td>Knife</td>\n",
              "      <td>0</td>\n",
              "      <td>0</td>\n",
              "      <td>FBI</td>\n",
              "    </tr>\n",
              "    <tr>\n",
              "      <th>99999</th>\n",
              "      <td>Sheriff</td>\n",
              "      <td>Jefferson</td>\n",
              "      <td>October</td>\n",
              "      <td>1</td>\n",
              "      <td>Murder or Manslaughter</td>\n",
              "      <td>Yes</td>\n",
              "      <td>Male</td>\n",
              "      <td>33</td>\n",
              "      <td>White</td>\n",
              "      <td>Not Hispanic</td>\n",
              "      <td>Male</td>\n",
              "      <td>22</td>\n",
              "      <td>White</td>\n",
              "      <td>Not Hispanic</td>\n",
              "      <td>Friend</td>\n",
              "      <td>Handgun</td>\n",
              "      <td>0</td>\n",
              "      <td>0</td>\n",
              "      <td>FBI</td>\n",
              "    </tr>\n",
              "  </tbody>\n",
              "</table>\n",
              "<p>100000 rows × 19 columns</p>\n",
              "</div>"
            ],
            "text/plain": [
              "            Agency Type       City  ... Perpetrator Count  Record Source\n",
              "0      Municipal Police  Anchorage  ...                 0            FBI\n",
              "1      Municipal Police  Anchorage  ...                 0            FBI\n",
              "2      Municipal Police  Anchorage  ...                 0            FBI\n",
              "3      Municipal Police  Anchorage  ...                 0            FBI\n",
              "4      Municipal Police  Anchorage  ...                 1            FBI\n",
              "...                 ...        ...  ...               ...            ...\n",
              "99995  Municipal Police    Jackson  ...                 0            FBI\n",
              "99996           Sheriff     Jasper  ...                 1            FBI\n",
              "99997           Sheriff  Jefferson  ...                 0            FBI\n",
              "99998           Sheriff  Jefferson  ...                 0            FBI\n",
              "99999           Sheriff  Jefferson  ...                 0            FBI\n",
              "\n",
              "[100000 rows x 19 columns]"
            ]
          },
          "metadata": {},
          "execution_count": 14
        }
      ]
    },
    {
      "cell_type": "markdown",
      "metadata": {
        "id": "lzLzHgL1KCe9"
      },
      "source": [
        "Признак **Crime Solved** - бинарный, признаки **Incident, Victim Age, Perpetdator Age, Victim Count,  Perpetdator Count** - числовые, остальные - номинальные (категориальные).\n",
        "\n",
        "Нужно предсказать признак **Crime Solved** по остальным признакам - это задача классификации."
      ]
    },
    {
      "cell_type": "code",
      "metadata": {
        "id": "tkWIrvEdQTnJ"
      },
      "source": [
        "data['Perpetrator Age'] = pd.to_numeric(data['Perpetrator Age'], errors='coerce')"
      ],
      "execution_count": null,
      "outputs": []
    },
    {
      "cell_type": "code",
      "metadata": {
        "colab": {
          "base_uri": "https://localhost:8080/",
          "height": 297
        },
        "id": "CDmoOuRDx7Tz",
        "outputId": "16679575-b117-49f9-c00b-ee12848ac6b5"
      },
      "source": [
        "data.describe()"
      ],
      "execution_count": null,
      "outputs": [
        {
          "output_type": "execute_result",
          "data": {
            "text/html": [
              "<div>\n",
              "<style scoped>\n",
              "    .dataframe tbody tr th:only-of-type {\n",
              "        vertical-align: middle;\n",
              "    }\n",
              "\n",
              "    .dataframe tbody tr th {\n",
              "        vertical-align: top;\n",
              "    }\n",
              "\n",
              "    .dataframe thead th {\n",
              "        text-align: right;\n",
              "    }\n",
              "</style>\n",
              "<table border=\"1\" class=\"dataframe\">\n",
              "  <thead>\n",
              "    <tr style=\"text-align: right;\">\n",
              "      <th></th>\n",
              "      <th>Incident</th>\n",
              "      <th>Victim Age</th>\n",
              "      <th>Perpetrator Age</th>\n",
              "      <th>Victim Count</th>\n",
              "      <th>Perpetrator Count</th>\n",
              "    </tr>\n",
              "  </thead>\n",
              "  <tbody>\n",
              "    <tr>\n",
              "      <th>count</th>\n",
              "      <td>100000.000000</td>\n",
              "      <td>100000.000000</td>\n",
              "      <td>100000.00000</td>\n",
              "      <td>100000.000000</td>\n",
              "      <td>100000.000000</td>\n",
              "    </tr>\n",
              "    <tr>\n",
              "      <th>mean</th>\n",
              "      <td>13.464350</td>\n",
              "      <td>35.918050</td>\n",
              "      <td>22.39331</td>\n",
              "      <td>0.110400</td>\n",
              "      <td>0.145850</td>\n",
              "    </tr>\n",
              "    <tr>\n",
              "      <th>std</th>\n",
              "      <td>27.021051</td>\n",
              "      <td>34.634307</td>\n",
              "      <td>17.83843</td>\n",
              "      <td>0.546347</td>\n",
              "      <td>0.476928</td>\n",
              "    </tr>\n",
              "    <tr>\n",
              "      <th>min</th>\n",
              "      <td>1.000000</td>\n",
              "      <td>0.000000</td>\n",
              "      <td>0.00000</td>\n",
              "      <td>0.000000</td>\n",
              "      <td>0.000000</td>\n",
              "    </tr>\n",
              "    <tr>\n",
              "      <th>25%</th>\n",
              "      <td>1.000000</td>\n",
              "      <td>23.000000</td>\n",
              "      <td>0.00000</td>\n",
              "      <td>0.000000</td>\n",
              "      <td>0.000000</td>\n",
              "    </tr>\n",
              "    <tr>\n",
              "      <th>50%</th>\n",
              "      <td>2.000000</td>\n",
              "      <td>31.000000</td>\n",
              "      <td>23.00000</td>\n",
              "      <td>0.000000</td>\n",
              "      <td>0.000000</td>\n",
              "    </tr>\n",
              "    <tr>\n",
              "      <th>75%</th>\n",
              "      <td>10.000000</td>\n",
              "      <td>43.000000</td>\n",
              "      <td>33.00000</td>\n",
              "      <td>0.000000</td>\n",
              "      <td>0.000000</td>\n",
              "    </tr>\n",
              "    <tr>\n",
              "      <th>max</th>\n",
              "      <td>994.000000</td>\n",
              "      <td>998.000000</td>\n",
              "      <td>99.00000</td>\n",
              "      <td>9.000000</td>\n",
              "      <td>10.000000</td>\n",
              "    </tr>\n",
              "  </tbody>\n",
              "</table>\n",
              "</div>"
            ],
            "text/plain": [
              "            Incident     Victim Age  ...   Victim Count  Perpetrator Count\n",
              "count  100000.000000  100000.000000  ...  100000.000000      100000.000000\n",
              "mean       13.464350      35.918050  ...       0.110400           0.145850\n",
              "std        27.021051      34.634307  ...       0.546347           0.476928\n",
              "min         1.000000       0.000000  ...       0.000000           0.000000\n",
              "25%         1.000000      23.000000  ...       0.000000           0.000000\n",
              "50%         2.000000      31.000000  ...       0.000000           0.000000\n",
              "75%        10.000000      43.000000  ...       0.000000           0.000000\n",
              "max       994.000000     998.000000  ...       9.000000          10.000000\n",
              "\n",
              "[8 rows x 5 columns]"
            ]
          },
          "metadata": {},
          "execution_count": 16
        }
      ]
    },
    {
      "cell_type": "code",
      "metadata": {
        "colab": {
          "base_uri": "https://localhost:8080/",
          "height": 207
        },
        "id": "XkF6gr4dzwTT",
        "outputId": "fdd8a0d4-e774-4e8c-bd74-ad883ce8daec"
      },
      "source": [
        "data.describe(include=['object'])"
      ],
      "execution_count": null,
      "outputs": [
        {
          "output_type": "execute_result",
          "data": {
            "text/html": [
              "<div>\n",
              "<style scoped>\n",
              "    .dataframe tbody tr th:only-of-type {\n",
              "        vertical-align: middle;\n",
              "    }\n",
              "\n",
              "    .dataframe tbody tr th {\n",
              "        vertical-align: top;\n",
              "    }\n",
              "\n",
              "    .dataframe thead th {\n",
              "        text-align: right;\n",
              "    }\n",
              "</style>\n",
              "<table border=\"1\" class=\"dataframe\">\n",
              "  <thead>\n",
              "    <tr style=\"text-align: right;\">\n",
              "      <th></th>\n",
              "      <th>Agency Type</th>\n",
              "      <th>City</th>\n",
              "      <th>Month</th>\n",
              "      <th>Crime Type</th>\n",
              "      <th>Crime Solved</th>\n",
              "      <th>Victim Sex</th>\n",
              "      <th>Victim Race</th>\n",
              "      <th>Victim Ethnicity</th>\n",
              "      <th>Perpetrator Sex</th>\n",
              "      <th>Perpetrator Race</th>\n",
              "      <th>Perpetrator Ethnicity</th>\n",
              "      <th>Relationship</th>\n",
              "      <th>Weapon</th>\n",
              "      <th>Record Source</th>\n",
              "    </tr>\n",
              "  </thead>\n",
              "  <tbody>\n",
              "    <tr>\n",
              "      <th>count</th>\n",
              "      <td>100000</td>\n",
              "      <td>100000</td>\n",
              "      <td>100000</td>\n",
              "      <td>100000</td>\n",
              "      <td>100000</td>\n",
              "      <td>100000</td>\n",
              "      <td>100000</td>\n",
              "      <td>100000</td>\n",
              "      <td>100000</td>\n",
              "      <td>100000</td>\n",
              "      <td>100000</td>\n",
              "      <td>100000</td>\n",
              "      <td>100000</td>\n",
              "      <td>100000</td>\n",
              "    </tr>\n",
              "    <tr>\n",
              "      <th>unique</th>\n",
              "      <td>7</td>\n",
              "      <td>1574</td>\n",
              "      <td>12</td>\n",
              "      <td>2</td>\n",
              "      <td>2</td>\n",
              "      <td>3</td>\n",
              "      <td>5</td>\n",
              "      <td>3</td>\n",
              "      <td>3</td>\n",
              "      <td>5</td>\n",
              "      <td>3</td>\n",
              "      <td>28</td>\n",
              "      <td>16</td>\n",
              "      <td>1</td>\n",
              "    </tr>\n",
              "    <tr>\n",
              "      <th>top</th>\n",
              "      <td>Municipal Police</td>\n",
              "      <td>New York</td>\n",
              "      <td>August</td>\n",
              "      <td>Murder or Manslaughter</td>\n",
              "      <td>Yes</td>\n",
              "      <td>Male</td>\n",
              "      <td>White</td>\n",
              "      <td>Not Hispanic</td>\n",
              "      <td>Male</td>\n",
              "      <td>White</td>\n",
              "      <td>Unknown</td>\n",
              "      <td>Unknown</td>\n",
              "      <td>Handgun</td>\n",
              "      <td>FBI</td>\n",
              "    </tr>\n",
              "    <tr>\n",
              "      <th>freq</th>\n",
              "      <td>76131</td>\n",
              "      <td>8352</td>\n",
              "      <td>9070</td>\n",
              "      <td>98753</td>\n",
              "      <td>73271</td>\n",
              "      <td>76942</td>\n",
              "      <td>54273</td>\n",
              "      <td>59443</td>\n",
              "      <td>63009</td>\n",
              "      <td>37051</td>\n",
              "      <td>45625</td>\n",
              "      <td>31681</td>\n",
              "      <td>45749</td>\n",
              "      <td>100000</td>\n",
              "    </tr>\n",
              "  </tbody>\n",
              "</table>\n",
              "</div>"
            ],
            "text/plain": [
              "             Agency Type      City   Month  ... Relationship   Weapon Record Source\n",
              "count             100000    100000  100000  ...       100000   100000        100000\n",
              "unique                 7      1574      12  ...           28       16             1\n",
              "top     Municipal Police  New York  August  ...      Unknown  Handgun           FBI\n",
              "freq               76131      8352    9070  ...        31681    45749        100000\n",
              "\n",
              "[4 rows x 14 columns]"
            ]
          },
          "metadata": {},
          "execution_count": 17
        }
      ]
    },
    {
      "cell_type": "code",
      "metadata": {
        "colab": {
          "base_uri": "https://localhost:8080/",
          "height": 617
        },
        "id": "wq1T4OL4yQ96",
        "outputId": "10552805-386a-451e-bd6d-8c8bacd72f92"
      },
      "source": [
        "from pandas.plotting import scatter_matrix\n",
        "scatter_matrix(data, alpha = .01, figsize = (10, 10))\n",
        "pass"
      ],
      "execution_count": null,
      "outputs": [
        {
          "output_type": "display_data",
          "data": {
            "image/png": "[encoded data removed]",
            "text/plain": [
              "<Figure size 720x720 with 25 Axes>"
            ]
          },
          "metadata": {
            "needs_background": "light"
          }
        }
      ]
    },
    {
      "cell_type": "code",
      "metadata": {
        "colab": {
          "base_uri": "https://localhost:8080/"
        },
        "id": "kaY-g-2z9WA0",
        "outputId": "c938903c-db08-4299-ceaa-1cbcf6d0b58b"
      },
      "source": [
        "data['Victim Age'].quantile([0.005, .01, .05, .1, .5, .9, .95, .995])"
      ],
      "execution_count": null,
      "outputs": [
        {
          "output_type": "execute_result",
          "data": {
            "text/plain": [
              "0.005     0.0\n",
              "0.010     0.0\n",
              "0.050    15.0\n",
              "0.100    18.0\n",
              "0.500    31.0\n",
              "0.900    60.0\n",
              "0.950    71.0\n",
              "0.995    99.0\n",
              "Name: Victim Age, dtype: float64"
            ]
          },
          "metadata": {},
          "execution_count": 19
        }
      ]
    },
    {
      "cell_type": "code",
      "metadata": {
        "colab": {
          "base_uri": "https://localhost:8080/"
        },
        "id": "yqVXIQE2ESWz",
        "outputId": "881d8962-75b3-4ff6-da28-fc58383218ef"
      },
      "source": [
        "data['Perpetrator Age'].quantile([0.005, .01, .05, .1, .5, .9, .95, .995])"
      ],
      "execution_count": null,
      "outputs": [
        {
          "output_type": "execute_result",
          "data": {
            "text/plain": [
              "0.005     0.0\n",
              "0.010     0.0\n",
              "0.050     0.0\n",
              "0.100     0.0\n",
              "0.500    23.0\n",
              "0.900    45.0\n",
              "0.950    54.0\n",
              "0.995    74.0\n",
              "Name: Perpetrator Age, dtype: float64"
            ]
          },
          "metadata": {},
          "execution_count": 20
        }
      ]
    },
    {
      "cell_type": "markdown",
      "metadata": {
        "id": "Pyfg1lgeZQ02"
      },
      "source": [
        "#Интерпретация\n",
        "\n",
        "Обычно жертва - это белый мужчина от 22 до 42 лет, преступник - белый мужчина в возрасте от 20 до 31 года. Самое популярно орудие убийства - пистолет. Чаще всего преступления совершаются в Лос-Анджелесе."
      ]
    },
    {
      "cell_type": "code",
      "metadata": {
        "colab": {
          "base_uri": "https://localhost:8080/",
          "height": 279
        },
        "id": "CrxnCy2jP5qG",
        "outputId": "7d6fa1be-5da3-43fe-ecec-5856e011f975"
      },
      "source": [
        "np.random.seed(42)\n",
        "random_subset = np.random.choice(np.arange(data.shape[0]), size=1000, replace=False)\n",
        "plt.scatter(data.iloc[random_subset]['Perpetrator Age'], data.iloc[random_subset]['Weapon'], alpha = .3)\n",
        "plt.xlabel('Perpetrator Age')\n",
        "plt.ylabel('Weapon')\n",
        "pass"
      ],
      "execution_count": null,
      "outputs": [
        {
          "output_type": "display_data",
          "data": {
            "image/png": "[encoded data removed]",
            "text/plain": [
              "<Figure size 432x288 with 1 Axes>"
            ]
          },
          "metadata": {
            "needs_background": "light"
          }
        }
      ]
    },
    {
      "cell_type": "markdown",
      "metadata": {
        "id": "nfANcyxfMcmg"
      },
      "source": [
        "По этой диаграмме рассеивания видно, что чем старше преступник, тем чаще он выбирает огнестрельное оружие"
      ]
    },
    {
      "cell_type": "code",
      "metadata": {
        "id": "ypWi9Nd8aQzb"
      },
      "source": [
        "corr_mat = data.corr()"
      ],
      "execution_count": null,
      "outputs": []
    },
    {
      "cell_type": "code",
      "metadata": {
        "colab": {
          "base_uri": "https://localhost:8080/",
          "height": 348
        },
        "id": "ZHSSQyRhLdxb",
        "outputId": "f392d28c-355e-43ba-f593-0c648633fe32"
      },
      "source": [
        "sns.heatmap(corr_mat, square=True, cmap='coolwarm')\n",
        "pass"
      ],
      "execution_count": null,
      "outputs": [
        {
          "output_type": "display_data",
          "data": {
            "image/png": "[encoded data removed]",
            "text/plain": [
              "<Figure size 432x288 with 2 Axes>"
            ]
          },
          "metadata": {
            "needs_background": "light"
          }
        }
      ]
    },
    {
      "cell_type": "markdown",
      "metadata": {
        "id": "Tj1p6FjqVRXq"
      },
      "source": [
        "Большой корелляции между признаками нет."
      ]
    },
    {
      "cell_type": "markdown",
      "metadata": {
        "id": "hm0TCsNcYwG5"
      },
      "source": [
        "#Заполнение пропущенных значений"
      ]
    },
    {
      "cell_type": "markdown",
      "metadata": {
        "id": "MkpZ_GY4Y1wx"
      },
      "source": [
        "В нераскрытых делах возраст преступника указан как 0. И в некоторых делах возраст жертвы указан как 0. Будем считать это тоже пропущенными значениями и заполним из медианой."
      ]
    },
    {
      "cell_type": "code",
      "metadata": {
        "id": "-EiyENXRXxw_"
      },
      "source": [
        "data['Victim Age'] = data['Victim Age'].replace(0, data['Victim Age'].median()) \n",
        "data['Perpetrator Age'] = data['Perpetrator Age'].replace(0, data['Perpetrator Age'].median()) "
      ],
      "execution_count": null,
      "outputs": []
    },
    {
      "cell_type": "markdown",
      "metadata": {
        "id": "MaPOb-VYdtOW"
      },
      "source": [
        "#Обработаем категориальные признаки"
      ]
    },
    {
      "cell_type": "code",
      "metadata": {
        "colab": {
          "base_uri": "https://localhost:8080/"
        },
        "id": "MpnF7iMsREYq",
        "outputId": "e65e8651-1fea-4790-c5c6-d89c7e4f02b8"
      },
      "source": [
        "categorical_columns = [c for c in data.columns if data[c].dtype.name == 'object']\n",
        "numerical_columns   = [c for c in data.columns if data[c].dtype.name != 'object']\n",
        "print(categorical_columns)\n",
        "print(numerical_columns)"
      ],
      "execution_count": null,
      "outputs": [
        {
          "output_type": "stream",
          "name": "stdout",
          "text": [
            "['Agency Type', 'City', 'Month', 'Crime Type', 'Crime Solved', 'Victim Sex', 'Victim Race', 'Victim Ethnicity', 'Perpetrator Sex', 'Perpetrator Race', 'Perpetrator Ethnicity', 'Relationship', 'Weapon', 'Record Source']\n",
            "['Incident', 'Victim Age', 'Perpetrator Age', 'Victim Count', 'Perpetrator Count']\n"
          ]
        }
      ]
    },
    {
      "cell_type": "code",
      "metadata": {
        "id": "QNPpWXFySO5d"
      },
      "source": [
        "data_describe = data.describe(include = [object])\n",
        "for c in categorical_columns:\n",
        "    data[c] = data[c].fillna(data_describe[c]['top'])"
      ],
      "execution_count": null,
      "outputs": []
    },
    {
      "cell_type": "markdown",
      "metadata": {
        "id": "uaapSSQvhDyE"
      },
      "source": [
        "Бинарные:"
      ]
    },
    {
      "cell_type": "code",
      "metadata": {
        "colab": {
          "base_uri": "https://localhost:8080/"
        },
        "id": "q3eaj4liPs7i",
        "outputId": "4b8470ed-b9b1-49b7-80a7-54f1106a15f5"
      },
      "source": [
        "binary_columns    = [c for c in categorical_columns if data_describe[c]['unique'] == 2]\n",
        "nonbinary_columns = [c for c in categorical_columns if data_describe[c]['unique'] > 2]\n",
        "print(binary_columns, nonbinary_columns)"
      ],
      "execution_count": null,
      "outputs": [
        {
          "output_type": "stream",
          "name": "stdout",
          "text": [
            "['Crime Type', 'Crime Solved'] ['Agency Type', 'City', 'Month', 'Victim Sex', 'Victim Race', 'Victim Ethnicity', 'Perpetrator Sex', 'Perpetrator Race', 'Perpetrator Ethnicity', 'Relationship', 'Weapon']\n"
          ]
        }
      ]
    },
    {
      "cell_type": "code",
      "metadata": {
        "id": "phVNMKt3aEwA"
      },
      "source": [
        "data['Crime Type'] = pd.factorize(data['Crime Type'])[0]\n",
        "data['Crime Solved'] = pd.factorize(data['Crime Solved'])[0]\n",
        "data['Record Source'] = pd.factorize(data['Record Source'])[0]"
      ],
      "execution_count": null,
      "outputs": []
    },
    {
      "cell_type": "markdown",
      "metadata": {
        "id": "KGoBzRaXhGTj"
      },
      "source": [
        "Небинарные:"
      ]
    },
    {
      "cell_type": "code",
      "metadata": {
        "colab": {
          "base_uri": "https://localhost:8080/",
          "height": 419
        },
        "id": "ISPgu1flSnXw",
        "outputId": "9c120a20-90cb-42e2-adc0-76989bd67ec4"
      },
      "source": [
        "data[nonbinary_columns]"
      ],
      "execution_count": null,
      "outputs": [
        {
          "output_type": "execute_result",
          "data": {
            "text/html": [
              "<div>\n",
              "<style scoped>\n",
              "    .dataframe tbody tr th:only-of-type {\n",
              "        vertical-align: middle;\n",
              "    }\n",
              "\n",
              "    .dataframe tbody tr th {\n",
              "        vertical-align: top;\n",
              "    }\n",
              "\n",
              "    .dataframe thead th {\n",
              "        text-align: right;\n",
              "    }\n",
              "</style>\n",
              "<table border=\"1\" class=\"dataframe\">\n",
              "  <thead>\n",
              "    <tr style=\"text-align: right;\">\n",
              "      <th></th>\n",
              "      <th>Agency Type</th>\n",
              "      <th>City</th>\n",
              "      <th>Month</th>\n",
              "      <th>Victim Sex</th>\n",
              "      <th>Victim Race</th>\n",
              "      <th>Victim Ethnicity</th>\n",
              "      <th>Perpetrator Sex</th>\n",
              "      <th>Perpetrator Race</th>\n",
              "      <th>Perpetrator Ethnicity</th>\n",
              "      <th>Relationship</th>\n",
              "      <th>Weapon</th>\n",
              "    </tr>\n",
              "  </thead>\n",
              "  <tbody>\n",
              "    <tr>\n",
              "      <th>0</th>\n",
              "      <td>Municipal Police</td>\n",
              "      <td>Anchorage</td>\n",
              "      <td>January</td>\n",
              "      <td>Male</td>\n",
              "      <td>Native American/Alaska Native</td>\n",
              "      <td>Unknown</td>\n",
              "      <td>Male</td>\n",
              "      <td>Native American/Alaska Native</td>\n",
              "      <td>Unknown</td>\n",
              "      <td>Acquaintance</td>\n",
              "      <td>Blunt Object</td>\n",
              "    </tr>\n",
              "    <tr>\n",
              "      <th>1</th>\n",
              "      <td>Municipal Police</td>\n",
              "      <td>Anchorage</td>\n",
              "      <td>March</td>\n",
              "      <td>Male</td>\n",
              "      <td>White</td>\n",
              "      <td>Unknown</td>\n",
              "      <td>Male</td>\n",
              "      <td>White</td>\n",
              "      <td>Unknown</td>\n",
              "      <td>Acquaintance</td>\n",
              "      <td>Strangulation</td>\n",
              "    </tr>\n",
              "    <tr>\n",
              "      <th>2</th>\n",
              "      <td>Municipal Police</td>\n",
              "      <td>Anchorage</td>\n",
              "      <td>March</td>\n",
              "      <td>Female</td>\n",
              "      <td>Native American/Alaska Native</td>\n",
              "      <td>Unknown</td>\n",
              "      <td>Unknown</td>\n",
              "      <td>Unknown</td>\n",
              "      <td>Unknown</td>\n",
              "      <td>Unknown</td>\n",
              "      <td>Unknown</td>\n",
              "    </tr>\n",
              "    <tr>\n",
              "      <th>3</th>\n",
              "      <td>Municipal Police</td>\n",
              "      <td>Anchorage</td>\n",
              "      <td>April</td>\n",
              "      <td>Male</td>\n",
              "      <td>White</td>\n",
              "      <td>Unknown</td>\n",
              "      <td>Male</td>\n",
              "      <td>White</td>\n",
              "      <td>Unknown</td>\n",
              "      <td>Acquaintance</td>\n",
              "      <td>Strangulation</td>\n",
              "    </tr>\n",
              "    <tr>\n",
              "      <th>4</th>\n",
              "      <td>Municipal Police</td>\n",
              "      <td>Anchorage</td>\n",
              "      <td>April</td>\n",
              "      <td>Female</td>\n",
              "      <td>Native American/Alaska Native</td>\n",
              "      <td>Unknown</td>\n",
              "      <td>Unknown</td>\n",
              "      <td>Unknown</td>\n",
              "      <td>Unknown</td>\n",
              "      <td>Unknown</td>\n",
              "      <td>Unknown</td>\n",
              "    </tr>\n",
              "    <tr>\n",
              "      <th>...</th>\n",
              "      <td>...</td>\n",
              "      <td>...</td>\n",
              "      <td>...</td>\n",
              "      <td>...</td>\n",
              "      <td>...</td>\n",
              "      <td>...</td>\n",
              "      <td>...</td>\n",
              "      <td>...</td>\n",
              "      <td>...</td>\n",
              "      <td>...</td>\n",
              "      <td>...</td>\n",
              "    </tr>\n",
              "    <tr>\n",
              "      <th>99995</th>\n",
              "      <td>Municipal Police</td>\n",
              "      <td>Jackson</td>\n",
              "      <td>July</td>\n",
              "      <td>Male</td>\n",
              "      <td>Black</td>\n",
              "      <td>Not Hispanic</td>\n",
              "      <td>Male</td>\n",
              "      <td>Black</td>\n",
              "      <td>Not Hispanic</td>\n",
              "      <td>Acquaintance</td>\n",
              "      <td>Handgun</td>\n",
              "    </tr>\n",
              "    <tr>\n",
              "      <th>99996</th>\n",
              "      <td>Sheriff</td>\n",
              "      <td>Jasper</td>\n",
              "      <td>September</td>\n",
              "      <td>Male</td>\n",
              "      <td>White</td>\n",
              "      <td>Hispanic</td>\n",
              "      <td>Male</td>\n",
              "      <td>White</td>\n",
              "      <td>Hispanic</td>\n",
              "      <td>Acquaintance</td>\n",
              "      <td>Shotgun</td>\n",
              "    </tr>\n",
              "    <tr>\n",
              "      <th>99997</th>\n",
              "      <td>Sheriff</td>\n",
              "      <td>Jefferson</td>\n",
              "      <td>March</td>\n",
              "      <td>Female</td>\n",
              "      <td>White</td>\n",
              "      <td>Not Hispanic</td>\n",
              "      <td>Male</td>\n",
              "      <td>White</td>\n",
              "      <td>Not Hispanic</td>\n",
              "      <td>Stranger</td>\n",
              "      <td>Knife</td>\n",
              "    </tr>\n",
              "    <tr>\n",
              "      <th>99998</th>\n",
              "      <td>Sheriff</td>\n",
              "      <td>Jefferson</td>\n",
              "      <td>July</td>\n",
              "      <td>Female</td>\n",
              "      <td>White</td>\n",
              "      <td>Not Hispanic</td>\n",
              "      <td>Male</td>\n",
              "      <td>White</td>\n",
              "      <td>Not Hispanic</td>\n",
              "      <td>Family</td>\n",
              "      <td>Knife</td>\n",
              "    </tr>\n",
              "    <tr>\n",
              "      <th>99999</th>\n",
              "      <td>Sheriff</td>\n",
              "      <td>Jefferson</td>\n",
              "      <td>October</td>\n",
              "      <td>Male</td>\n",
              "      <td>White</td>\n",
              "      <td>Not Hispanic</td>\n",
              "      <td>Male</td>\n",
              "      <td>White</td>\n",
              "      <td>Not Hispanic</td>\n",
              "      <td>Friend</td>\n",
              "      <td>Handgun</td>\n",
              "    </tr>\n",
              "  </tbody>\n",
              "</table>\n",
              "<p>100000 rows × 11 columns</p>\n",
              "</div>"
            ],
            "text/plain": [
              "            Agency Type       City  ...  Relationship         Weapon\n",
              "0      Municipal Police  Anchorage  ...  Acquaintance   Blunt Object\n",
              "1      Municipal Police  Anchorage  ...  Acquaintance  Strangulation\n",
              "2      Municipal Police  Anchorage  ...       Unknown        Unknown\n",
              "3      Municipal Police  Anchorage  ...  Acquaintance  Strangulation\n",
              "4      Municipal Police  Anchorage  ...       Unknown        Unknown\n",
              "...                 ...        ...  ...           ...            ...\n",
              "99995  Municipal Police    Jackson  ...  Acquaintance        Handgun\n",
              "99996           Sheriff     Jasper  ...  Acquaintance        Shotgun\n",
              "99997           Sheriff  Jefferson  ...      Stranger          Knife\n",
              "99998           Sheriff  Jefferson  ...        Family          Knife\n",
              "99999           Sheriff  Jefferson  ...        Friend        Handgun\n",
              "\n",
              "[100000 rows x 11 columns]"
            ]
          },
          "metadata": {},
          "execution_count": 29
        }
      ]
    },
    {
      "cell_type": "code",
      "metadata": {
        "id": "vIEJtBkNf_qN",
        "colab": {
          "base_uri": "https://localhost:8080/"
        },
        "outputId": "082c2167-f4e9-450d-825e-65d4aadac754"
      },
      "source": [
        "data_nonbinary = pd.get_dummies(data[nonbinary_columns])\n",
        "print(data_nonbinary.columns)"
      ],
      "execution_count": null,
      "outputs": [
        {
          "output_type": "stream",
          "name": "stdout",
          "text": [
            "Index(['Agency Type_County Police', 'Agency Type_Municipal Police',\n",
            "       'Agency Type_Regional Police', 'Agency Type_Sheriff',\n",
            "       'Agency Type_Special Police', 'Agency Type_State Police',\n",
            "       'Agency Type_Tribal Police', 'City_Abbeville', 'City_Acadia',\n",
            "       'City_Accomack',\n",
            "       ...\n",
            "       'Weapon_Firearm', 'Weapon_Gun', 'Weapon_Handgun', 'Weapon_Knife',\n",
            "       'Weapon_Poison', 'Weapon_Rifle', 'Weapon_Shotgun',\n",
            "       'Weapon_Strangulation', 'Weapon_Suffocation', 'Weapon_Unknown'],\n",
            "      dtype='object', length=1659)\n"
          ]
        }
      ]
    },
    {
      "cell_type": "markdown",
      "metadata": {
        "id": "aD5CdL7F2LSj"
      },
      "source": [
        "#Нормализация признаков"
      ]
    },
    {
      "cell_type": "code",
      "metadata": {
        "id": "G9ULMDnMzxUc",
        "colab": {
          "base_uri": "https://localhost:8080/",
          "height": 297
        },
        "outputId": "f3a75c05-9832-48de-b571-abbd7c54b8e8"
      },
      "source": [
        "data_numerical = data[numerical_columns]\n",
        "data_numerical.describe()"
      ],
      "execution_count": null,
      "outputs": [
        {
          "output_type": "execute_result",
          "data": {
            "text/html": [
              "<div>\n",
              "<style scoped>\n",
              "    .dataframe tbody tr th:only-of-type {\n",
              "        vertical-align: middle;\n",
              "    }\n",
              "\n",
              "    .dataframe tbody tr th {\n",
              "        vertical-align: top;\n",
              "    }\n",
              "\n",
              "    .dataframe thead th {\n",
              "        text-align: right;\n",
              "    }\n",
              "</style>\n",
              "<table border=\"1\" class=\"dataframe\">\n",
              "  <thead>\n",
              "    <tr style=\"text-align: right;\">\n",
              "      <th></th>\n",
              "      <th>Incident</th>\n",
              "      <th>Victim Age</th>\n",
              "      <th>Perpetrator Age</th>\n",
              "      <th>Victim Count</th>\n",
              "      <th>Perpetrator Count</th>\n",
              "    </tr>\n",
              "  </thead>\n",
              "  <tbody>\n",
              "    <tr>\n",
              "      <th>count</th>\n",
              "      <td>100000.000000</td>\n",
              "      <td>100000.000000</td>\n",
              "      <td>100000.000000</td>\n",
              "      <td>100000.000000</td>\n",
              "      <td>100000.000000</td>\n",
              "    </tr>\n",
              "    <tr>\n",
              "      <th>mean</th>\n",
              "      <td>13.464350</td>\n",
              "      <td>36.247580</td>\n",
              "      <td>29.042150</td>\n",
              "      <td>0.110400</td>\n",
              "      <td>0.145850</td>\n",
              "    </tr>\n",
              "    <tr>\n",
              "      <th>std</th>\n",
              "      <td>27.021051</td>\n",
              "      <td>34.437911</td>\n",
              "      <td>11.364192</td>\n",
              "      <td>0.546347</td>\n",
              "      <td>0.476928</td>\n",
              "    </tr>\n",
              "    <tr>\n",
              "      <th>min</th>\n",
              "      <td>1.000000</td>\n",
              "      <td>1.000000</td>\n",
              "      <td>1.000000</td>\n",
              "      <td>0.000000</td>\n",
              "      <td>0.000000</td>\n",
              "    </tr>\n",
              "    <tr>\n",
              "      <th>25%</th>\n",
              "      <td>1.000000</td>\n",
              "      <td>23.000000</td>\n",
              "      <td>23.000000</td>\n",
              "      <td>0.000000</td>\n",
              "      <td>0.000000</td>\n",
              "    </tr>\n",
              "    <tr>\n",
              "      <th>50%</th>\n",
              "      <td>2.000000</td>\n",
              "      <td>31.000000</td>\n",
              "      <td>23.000000</td>\n",
              "      <td>0.000000</td>\n",
              "      <td>0.000000</td>\n",
              "    </tr>\n",
              "    <tr>\n",
              "      <th>75%</th>\n",
              "      <td>10.000000</td>\n",
              "      <td>43.000000</td>\n",
              "      <td>33.000000</td>\n",
              "      <td>0.000000</td>\n",
              "      <td>0.000000</td>\n",
              "    </tr>\n",
              "    <tr>\n",
              "      <th>max</th>\n",
              "      <td>994.000000</td>\n",
              "      <td>998.000000</td>\n",
              "      <td>99.000000</td>\n",
              "      <td>9.000000</td>\n",
              "      <td>10.000000</td>\n",
              "    </tr>\n",
              "  </tbody>\n",
              "</table>\n",
              "</div>"
            ],
            "text/plain": [
              "            Incident     Victim Age  ...   Victim Count  Perpetrator Count\n",
              "count  100000.000000  100000.000000  ...  100000.000000      100000.000000\n",
              "mean       13.464350      36.247580  ...       0.110400           0.145850\n",
              "std        27.021051      34.437911  ...       0.546347           0.476928\n",
              "min         1.000000       1.000000  ...       0.000000           0.000000\n",
              "25%         1.000000      23.000000  ...       0.000000           0.000000\n",
              "50%         2.000000      31.000000  ...       0.000000           0.000000\n",
              "75%        10.000000      43.000000  ...       0.000000           0.000000\n",
              "max       994.000000     998.000000  ...       9.000000          10.000000\n",
              "\n",
              "[8 rows x 5 columns]"
            ]
          },
          "metadata": {},
          "execution_count": 31
        }
      ]
    },
    {
      "cell_type": "code",
      "metadata": {
        "colab": {
          "base_uri": "https://localhost:8080/",
          "height": 297
        },
        "id": "RARztgbtTFsV",
        "outputId": "2cc4688d-e7a5-4f76-87d8-6d3dd14f8283"
      },
      "source": [
        "data_numerical = (data_numerical - data_numerical.mean(axis = 0))/data_numerical.std(axis = 0)\n",
        "data_numerical.describe()"
      ],
      "execution_count": null,
      "outputs": [
        {
          "output_type": "execute_result",
          "data": {
            "text/html": [
              "<div>\n",
              "<style scoped>\n",
              "    .dataframe tbody tr th:only-of-type {\n",
              "        vertical-align: middle;\n",
              "    }\n",
              "\n",
              "    .dataframe tbody tr th {\n",
              "        vertical-align: top;\n",
              "    }\n",
              "\n",
              "    .dataframe thead th {\n",
              "        text-align: right;\n",
              "    }\n",
              "</style>\n",
              "<table border=\"1\" class=\"dataframe\">\n",
              "  <thead>\n",
              "    <tr style=\"text-align: right;\">\n",
              "      <th></th>\n",
              "      <th>Incident</th>\n",
              "      <th>Victim Age</th>\n",
              "      <th>Perpetrator Age</th>\n",
              "      <th>Victim Count</th>\n",
              "      <th>Perpetrator Count</th>\n",
              "    </tr>\n",
              "  </thead>\n",
              "  <tbody>\n",
              "    <tr>\n",
              "      <th>count</th>\n",
              "      <td>1.000000e+05</td>\n",
              "      <td>1.000000e+05</td>\n",
              "      <td>1.000000e+05</td>\n",
              "      <td>1.000000e+05</td>\n",
              "      <td>1.000000e+05</td>\n",
              "    </tr>\n",
              "    <tr>\n",
              "      <th>mean</th>\n",
              "      <td>1.245795e-15</td>\n",
              "      <td>1.170301e-15</td>\n",
              "      <td>-3.243413e-15</td>\n",
              "      <td>-4.855983e-15</td>\n",
              "      <td>8.437498e-15</td>\n",
              "    </tr>\n",
              "    <tr>\n",
              "      <th>std</th>\n",
              "      <td>1.000000e+00</td>\n",
              "      <td>1.000000e+00</td>\n",
              "      <td>1.000000e+00</td>\n",
              "      <td>1.000000e+00</td>\n",
              "      <td>1.000000e+00</td>\n",
              "    </tr>\n",
              "    <tr>\n",
              "      <th>min</th>\n",
              "      <td>-4.612830e-01</td>\n",
              "      <td>-1.023511e+00</td>\n",
              "      <td>-2.467588e+00</td>\n",
              "      <td>-2.020695e-01</td>\n",
              "      <td>-3.058115e-01</td>\n",
              "    </tr>\n",
              "    <tr>\n",
              "      <th>25%</th>\n",
              "      <td>-4.612830e-01</td>\n",
              "      <td>-3.846801e-01</td>\n",
              "      <td>-5.316832e-01</td>\n",
              "      <td>-2.020695e-01</td>\n",
              "      <td>-3.058115e-01</td>\n",
              "    </tr>\n",
              "    <tr>\n",
              "      <th>50%</th>\n",
              "      <td>-4.242748e-01</td>\n",
              "      <td>-1.523780e-01</td>\n",
              "      <td>-5.316832e-01</td>\n",
              "      <td>-2.020695e-01</td>\n",
              "      <td>-3.058115e-01</td>\n",
              "    </tr>\n",
              "    <tr>\n",
              "      <th>75%</th>\n",
              "      <td>-1.282093e-01</td>\n",
              "      <td>1.960752e-01</td>\n",
              "      <td>3.482738e-01</td>\n",
              "      <td>-2.020695e-01</td>\n",
              "      <td>-3.058115e-01</td>\n",
              "    </tr>\n",
              "    <tr>\n",
              "      <th>max</th>\n",
              "      <td>3.628784e+01</td>\n",
              "      <td>2.792714e+01</td>\n",
              "      <td>6.155990e+00</td>\n",
              "      <td>1.627098e+01</td>\n",
              "      <td>2.066173e+01</td>\n",
              "    </tr>\n",
              "  </tbody>\n",
              "</table>\n",
              "</div>"
            ],
            "text/plain": [
              "           Incident    Victim Age  ...  Victim Count  Perpetrator Count\n",
              "count  1.000000e+05  1.000000e+05  ...  1.000000e+05       1.000000e+05\n",
              "mean   1.245795e-15  1.170301e-15  ... -4.855983e-15       8.437498e-15\n",
              "std    1.000000e+00  1.000000e+00  ...  1.000000e+00       1.000000e+00\n",
              "min   -4.612830e-01 -1.023511e+00  ... -2.020695e-01      -3.058115e-01\n",
              "25%   -4.612830e-01 -3.846801e-01  ... -2.020695e-01      -3.058115e-01\n",
              "50%   -4.242748e-01 -1.523780e-01  ... -2.020695e-01      -3.058115e-01\n",
              "75%   -1.282093e-01  1.960752e-01  ... -2.020695e-01      -3.058115e-01\n",
              "max    3.628784e+01  2.792714e+01  ...  1.627098e+01       2.066173e+01\n",
              "\n",
              "[8 rows x 5 columns]"
            ]
          },
          "metadata": {},
          "execution_count": 32
        }
      ]
    },
    {
      "cell_type": "code",
      "metadata": {
        "colab": {
          "base_uri": "https://localhost:8080/"
        },
        "id": "7R3cO5QBTMU8",
        "outputId": "755896b4-f4c4-400a-dd0a-ba96b6fe2023"
      },
      "source": [
        "data = pd.concat((data_numerical, data_nonbinary, data[binary_columns]), axis = 1)\n",
        "print(data.shape)"
      ],
      "execution_count": null,
      "outputs": [
        {
          "output_type": "stream",
          "name": "stdout",
          "text": [
            "(100000, 1666)\n"
          ]
        }
      ]
    },
    {
      "cell_type": "code",
      "metadata": {
        "id": "cXuJLAnM2kZ6"
      },
      "source": [
        "# data.to_csv('normdata.csv', sep = ',')"
      ],
      "execution_count": null,
      "outputs": []
    },
    {
      "cell_type": "markdown",
      "metadata": {
        "id": "plQ39YoM5knf"
      },
      "source": [
        "#Отбор признаков"
      ]
    },
    {
      "cell_type": "code",
      "metadata": {
        "id": "BhwOMTyOtRoY"
      },
      "source": [
        "X = data.drop('Crime Solved', axis = 1) \n",
        "y = data['Crime Solved']\n",
        "feature_names = X.columns"
      ],
      "execution_count": null,
      "outputs": []
    },
    {
      "cell_type": "code",
      "metadata": {
        "id": "in-NHaBc6DZP"
      },
      "source": [
        "# X.to_csv('X.csv', sep = ',')\n",
        "# y.to_csv('y.csv', sep = ',')"
      ],
      "execution_count": null,
      "outputs": []
    },
    {
      "cell_type": "markdown",
      "metadata": {
        "id": "tcjZ6_FL8tkC"
      },
      "source": [
        "#Обучаем модель"
      ]
    },
    {
      "cell_type": "code",
      "metadata": {
        "id": "sI9bYvcF9-S5"
      },
      "source": [
        "# X = pd.read_csv(\"X.csv\", low_memory = False, sep = ',')"
      ],
      "execution_count": null,
      "outputs": []
    },
    {
      "cell_type": "code",
      "metadata": {
        "id": "qD5DLgqy-DsQ"
      },
      "source": [
        "# y = pd.read_csv(\"y.csv\", low_memory = False, sep = ',')"
      ],
      "execution_count": null,
      "outputs": []
    },
    {
      "cell_type": "code",
      "metadata": {
        "colab": {
          "base_uri": "https://localhost:8080/"
        },
        "id": "c0IGdD5O61f6",
        "outputId": "2d49c24c-0d2b-41a1-8597-64e62ee78913"
      },
      "source": [
        "from sklearn.model_selection import train_test_split\n",
        "X_train, X_test, y_train, y_test = train_test_split(X, y, test_size = 0.3, random_state = 42)\n",
        "\n",
        "N_train, _ = X_train.shape \n",
        "N_test,  _ = X_test.shape \n",
        "\n",
        "print(N_train, N_test)"
      ],
      "execution_count": null,
      "outputs": [
        {
          "output_type": "stream",
          "name": "stdout",
          "text": [
            "70000 30000\n"
          ]
        }
      ]
    },
    {
      "cell_type": "markdown",
      "metadata": {
        "id": "aNrEwspg9VQY"
      },
      "source": [
        "### KNN"
      ]
    },
    {
      "cell_type": "markdown",
      "metadata": {
        "id": "Yt4ZOMx5p8xR"
      },
      "source": [
        "Попробуем сначала для 3 соседей:"
      ]
    },
    {
      "cell_type": "code",
      "metadata": {
        "id": "As2AZyQHB8pZ",
        "colab": {
          "base_uri": "https://localhost:8080/"
        },
        "outputId": "d53bbe96-808c-4954-84d4-a80b5ba603ea"
      },
      "source": [
        "from sklearn.neighbors import KNeighborsClassifier as KNN\n",
        "\n",
        "knn = KNN(n_neighbors = 3)\n",
        "knn.fit(X_train, y_train)"
      ],
      "execution_count": null,
      "outputs": [
        {
          "output_type": "execute_result",
          "data": {
            "text/plain": [
              "KNeighborsClassifier(algorithm='auto', leaf_size=30, metric='minkowski',\n",
              "                     metric_params=None, n_jobs=None, n_neighbors=3, p=2,\n",
              "                     weights='uniform')"
            ]
          },
          "metadata": {},
          "execution_count": 41
        }
      ]
    },
    {
      "cell_type": "markdown",
      "metadata": {
        "id": "ZHjcNgqDopfD"
      },
      "source": [
        "Посмотрим точность"
      ]
    },
    {
      "cell_type": "code",
      "metadata": {
        "id": "3laLfyh29IjK",
        "colab": {
          "base_uri": "https://localhost:8080/"
        },
        "outputId": "c28cadff-06fa-450f-e190-27ae8cefb82a"
      },
      "source": [
        "from sklearn.metrics import accuracy_score\n",
        "accuracy_score(y_test, KNN(n_neighbors = 3).fit(X_train, y_train).predict(X_test))"
      ],
      "execution_count": null,
      "outputs": [
        {
          "output_type": "execute_result",
          "data": {
            "text/plain": [
              "0.9972"
            ]
          },
          "metadata": {},
          "execution_count": 42
        }
      ]
    },
    {
      "cell_type": "markdown",
      "metadata": {
        "id": "Hd2CJ5-aouHi"
      },
      "source": [
        "Посмотрим какое количество соседей может быть лучше"
      ]
    },
    {
      "cell_type": "code",
      "metadata": {
        "id": "p9299M7mtsnk",
        "colab": {
          "base_uri": "https://localhost:8080/"
        },
        "outputId": "bec2af3f-3a8a-4fa9-d87a-3167b12d86de"
      },
      "source": [
        "from sklearn.model_selection import GridSearchCV\n",
        "params = {'n_neighbors': range(1, 10)}\n",
        "grid_searcher = GridSearchCV(knn, params, cv=5)\n",
        "grid_searcher.fit(X_train, y_train)"
      ],
      "execution_count": null,
      "outputs": [
        {
          "output_type": "execute_result",
          "data": {
            "text/plain": [
              "GridSearchCV(cv=5, error_score=nan,\n",
              "             estimator=KNeighborsClassifier(algorithm='auto', leaf_size=30,\n",
              "                                            metric='minkowski',\n",
              "                                            metric_params=None, n_jobs=None,\n",
              "                                            n_neighbors=3, p=2,\n",
              "                                            weights='uniform'),\n",
              "             iid='deprecated', n_jobs=None,\n",
              "             param_grid={'n_neighbors': range(1, 10)}, pre_dispatch='2*n_jobs',\n",
              "             refit=True, return_train_score=False, scoring=None, verbose=0)"
            ]
          },
          "metadata": {},
          "execution_count": 44
        }
      ]
    },
    {
      "cell_type": "code",
      "metadata": {
        "id": "D7fFkwdpvKce",
        "colab": {
          "base_uri": "https://localhost:8080/",
          "height": 501
        },
        "outputId": "11b2f47a-507f-4678-88a4-f3321fc8df59"
      },
      "source": [
        "df = pd.DataFrame(grid_searcher.cv_results_)\n",
        "df"
      ],
      "execution_count": null,
      "outputs": [
        {
          "output_type": "execute_result",
          "data": {
            "text/html": [
              "<div>\n",
              "<style scoped>\n",
              "    .dataframe tbody tr th:only-of-type {\n",
              "        vertical-align: middle;\n",
              "    }\n",
              "\n",
              "    .dataframe tbody tr th {\n",
              "        vertical-align: top;\n",
              "    }\n",
              "\n",
              "    .dataframe thead th {\n",
              "        text-align: right;\n",
              "    }\n",
              "</style>\n",
              "<table border=\"1\" class=\"dataframe\">\n",
              "  <thead>\n",
              "    <tr style=\"text-align: right;\">\n",
              "      <th></th>\n",
              "      <th>mean_fit_time</th>\n",
              "      <th>std_fit_time</th>\n",
              "      <th>mean_score_time</th>\n",
              "      <th>std_score_time</th>\n",
              "      <th>param_n_neighbors</th>\n",
              "      <th>params</th>\n",
              "      <th>split0_test_score</th>\n",
              "      <th>split1_test_score</th>\n",
              "      <th>split2_test_score</th>\n",
              "      <th>split3_test_score</th>\n",
              "      <th>split4_test_score</th>\n",
              "      <th>mean_test_score</th>\n",
              "      <th>std_test_score</th>\n",
              "      <th>rank_test_score</th>\n",
              "    </tr>\n",
              "  </thead>\n",
              "  <tbody>\n",
              "    <tr>\n",
              "      <th>0</th>\n",
              "      <td>21.356501</td>\n",
              "      <td>2.050110</td>\n",
              "      <td>1184.802443</td>\n",
              "      <td>21.703401</td>\n",
              "      <td>1</td>\n",
              "      <td>{'n_neighbors': 1}</td>\n",
              "      <td>0.998571</td>\n",
              "      <td>0.997214</td>\n",
              "      <td>0.998357</td>\n",
              "      <td>0.998214</td>\n",
              "      <td>0.997929</td>\n",
              "      <td>0.998057</td>\n",
              "      <td>0.000470</td>\n",
              "      <td>3</td>\n",
              "    </tr>\n",
              "    <tr>\n",
              "      <th>1</th>\n",
              "      <td>21.092691</td>\n",
              "      <td>0.797513</td>\n",
              "      <td>1374.233133</td>\n",
              "      <td>18.095802</td>\n",
              "      <td>2</td>\n",
              "      <td>{'n_neighbors': 2}</td>\n",
              "      <td>0.998643</td>\n",
              "      <td>0.998143</td>\n",
              "      <td>0.998714</td>\n",
              "      <td>0.998714</td>\n",
              "      <td>0.998714</td>\n",
              "      <td>0.998586</td>\n",
              "      <td>0.000223</td>\n",
              "      <td>1</td>\n",
              "    </tr>\n",
              "    <tr>\n",
              "      <th>2</th>\n",
              "      <td>20.612842</td>\n",
              "      <td>0.580464</td>\n",
              "      <td>1477.194785</td>\n",
              "      <td>38.911746</td>\n",
              "      <td>3</td>\n",
              "      <td>{'n_neighbors': 3}</td>\n",
              "      <td>0.997500</td>\n",
              "      <td>0.997214</td>\n",
              "      <td>0.998143</td>\n",
              "      <td>0.998071</td>\n",
              "      <td>0.998286</td>\n",
              "      <td>0.997843</td>\n",
              "      <td>0.000413</td>\n",
              "      <td>5</td>\n",
              "    </tr>\n",
              "    <tr>\n",
              "      <th>3</th>\n",
              "      <td>20.940052</td>\n",
              "      <td>0.722164</td>\n",
              "      <td>1518.887533</td>\n",
              "      <td>10.338164</td>\n",
              "      <td>4</td>\n",
              "      <td>{'n_neighbors': 4}</td>\n",
              "      <td>0.998000</td>\n",
              "      <td>0.997500</td>\n",
              "      <td>0.998500</td>\n",
              "      <td>0.998286</td>\n",
              "      <td>0.998786</td>\n",
              "      <td>0.998214</td>\n",
              "      <td>0.000440</td>\n",
              "      <td>2</td>\n",
              "    </tr>\n",
              "    <tr>\n",
              "      <th>4</th>\n",
              "      <td>22.775498</td>\n",
              "      <td>0.772624</td>\n",
              "      <td>1612.225015</td>\n",
              "      <td>12.981732</td>\n",
              "      <td>5</td>\n",
              "      <td>{'n_neighbors': 5}</td>\n",
              "      <td>0.997286</td>\n",
              "      <td>0.996357</td>\n",
              "      <td>0.998143</td>\n",
              "      <td>0.997643</td>\n",
              "      <td>0.998143</td>\n",
              "      <td>0.997514</td>\n",
              "      <td>0.000663</td>\n",
              "      <td>7</td>\n",
              "    </tr>\n",
              "    <tr>\n",
              "      <th>5</th>\n",
              "      <td>21.749219</td>\n",
              "      <td>0.428582</td>\n",
              "      <td>1627.430684</td>\n",
              "      <td>6.159302</td>\n",
              "      <td>6</td>\n",
              "      <td>{'n_neighbors': 6}</td>\n",
              "      <td>0.997929</td>\n",
              "      <td>0.997286</td>\n",
              "      <td>0.998429</td>\n",
              "      <td>0.998143</td>\n",
              "      <td>0.998214</td>\n",
              "      <td>0.998000</td>\n",
              "      <td>0.000391</td>\n",
              "      <td>4</td>\n",
              "    </tr>\n",
              "    <tr>\n",
              "      <th>6</th>\n",
              "      <td>19.866465</td>\n",
              "      <td>0.310707</td>\n",
              "      <td>1621.821756</td>\n",
              "      <td>7.129073</td>\n",
              "      <td>7</td>\n",
              "      <td>{'n_neighbors': 7}</td>\n",
              "      <td>0.997429</td>\n",
              "      <td>0.996714</td>\n",
              "      <td>0.997857</td>\n",
              "      <td>0.997429</td>\n",
              "      <td>0.997929</td>\n",
              "      <td>0.997471</td>\n",
              "      <td>0.000432</td>\n",
              "      <td>8</td>\n",
              "    </tr>\n",
              "    <tr>\n",
              "      <th>7</th>\n",
              "      <td>19.826744</td>\n",
              "      <td>0.114224</td>\n",
              "      <td>1637.722710</td>\n",
              "      <td>6.189315</td>\n",
              "      <td>8</td>\n",
              "      <td>{'n_neighbors': 8}</td>\n",
              "      <td>0.997643</td>\n",
              "      <td>0.996786</td>\n",
              "      <td>0.998071</td>\n",
              "      <td>0.997714</td>\n",
              "      <td>0.998143</td>\n",
              "      <td>0.997671</td>\n",
              "      <td>0.000484</td>\n",
              "      <td>6</td>\n",
              "    </tr>\n",
              "    <tr>\n",
              "      <th>8</th>\n",
              "      <td>19.555843</td>\n",
              "      <td>0.291480</td>\n",
              "      <td>1642.636249</td>\n",
              "      <td>15.010619</td>\n",
              "      <td>9</td>\n",
              "      <td>{'n_neighbors': 9}</td>\n",
              "      <td>0.997286</td>\n",
              "      <td>0.996143</td>\n",
              "      <td>0.997571</td>\n",
              "      <td>0.997571</td>\n",
              "      <td>0.997929</td>\n",
              "      <td>0.997300</td>\n",
              "      <td>0.000613</td>\n",
              "      <td>9</td>\n",
              "    </tr>\n",
              "  </tbody>\n",
              "</table>\n",
              "</div>"
            ],
            "text/plain": [
              "   mean_fit_time  std_fit_time  ...  std_test_score  rank_test_score\n",
              "0      21.356501      2.050110  ...        0.000470                3\n",
              "1      21.092691      0.797513  ...        0.000223                1\n",
              "2      20.612842      0.580464  ...        0.000413                5\n",
              "3      20.940052      0.722164  ...        0.000440                2\n",
              "4      22.775498      0.772624  ...        0.000663                7\n",
              "5      21.749219      0.428582  ...        0.000391                4\n",
              "6      19.866465      0.310707  ...        0.000432                8\n",
              "7      19.826744      0.114224  ...        0.000484                6\n",
              "8      19.555843      0.291480  ...        0.000613                9\n",
              "\n",
              "[9 rows x 14 columns]"
            ]
          },
          "metadata": {},
          "execution_count": 45
        }
      ]
    },
    {
      "cell_type": "code",
      "metadata": {
        "id": "tiPY9pWUvnJW"
      },
      "source": [
        "means = df['mean_test_score']\n",
        "stds = df['std_test_score']\n",
        "n_neighbors = df['params'].apply(lambda x: x['n_neighbors'])"
      ],
      "execution_count": null,
      "outputs": []
    },
    {
      "cell_type": "code",
      "metadata": {
        "id": "_759aA7GxN1E",
        "colab": {
          "base_uri": "https://localhost:8080/",
          "height": 231
        },
        "outputId": "2ac0bea6-d4fb-4c3c-b923-d7a5ad95c5a4"
      },
      "source": [
        "plt.figure(figsize=(18, 8))\n",
        "plt.plot(n_neighbors, means)\n",
        "# plt.fill_between(range(len(means)), means + stds, means - stds, alpha = )\n",
        "plt.xlim(1, 10)\n",
        "plt.ylim(0.98, 1)\n",
        "# plt.xticks(np.arange(1, n, 2))\n",
        "plt.xlabel('Количество соседей')\n",
        "plt.ylabel('Accuracy')\n",
        "plt.grid()"
      ],
      "execution_count": 1,
      "outputs": [
        {
          "output_type": "error",
          "ename": "NameError",
          "evalue": "ignored",
          "traceback": [
            "\u001b[0;31m---------------------------------------------------------------------------\u001b[0m",
            "\u001b[0;31mNameError\u001b[0m                                 Traceback (most recent call last)",
            "\u001b[0;32m<ipython-input-1-15cfdd87e5f4>\u001b[0m in \u001b[0;36m<module>\u001b[0;34m()\u001b[0m\n\u001b[0;32m----> 1\u001b[0;31m \u001b[0mplt\u001b[0m\u001b[0;34m.\u001b[0m\u001b[0mfigure\u001b[0m\u001b[0;34m(\u001b[0m\u001b[0mfigsize\u001b[0m\u001b[0;34m=\u001b[0m\u001b[0;34m(\u001b[0m\u001b[0;36m18\u001b[0m\u001b[0;34m,\u001b[0m \u001b[0;36m8\u001b[0m\u001b[0;34m)\u001b[0m\u001b[0;34m)\u001b[0m\u001b[0;34m\u001b[0m\u001b[0;34m\u001b[0m\u001b[0m\n\u001b[0m\u001b[1;32m      2\u001b[0m \u001b[0mplt\u001b[0m\u001b[0;34m.\u001b[0m\u001b[0mplot\u001b[0m\u001b[0;34m(\u001b[0m\u001b[0mn_neighbors\u001b[0m\u001b[0;34m,\u001b[0m \u001b[0mmeans\u001b[0m\u001b[0;34m)\u001b[0m\u001b[0;34m\u001b[0m\u001b[0;34m\u001b[0m\u001b[0m\n\u001b[1;32m      3\u001b[0m \u001b[0;31m# plt.fill_between(range(len(means)), means + stds, means - stds, alpha = )\u001b[0m\u001b[0;34m\u001b[0m\u001b[0;34m\u001b[0m\u001b[0;34m\u001b[0m\u001b[0m\n\u001b[1;32m      4\u001b[0m \u001b[0mplt\u001b[0m\u001b[0;34m.\u001b[0m\u001b[0mxlim\u001b[0m\u001b[0;34m(\u001b[0m\u001b[0;36m1\u001b[0m\u001b[0;34m,\u001b[0m \u001b[0;36m10\u001b[0m\u001b[0;34m)\u001b[0m\u001b[0;34m\u001b[0m\u001b[0;34m\u001b[0m\u001b[0m\n\u001b[1;32m      5\u001b[0m \u001b[0mplt\u001b[0m\u001b[0;34m.\u001b[0m\u001b[0mylim\u001b[0m\u001b[0;34m(\u001b[0m\u001b[0;36m0.98\u001b[0m\u001b[0;34m,\u001b[0m \u001b[0;36m1\u001b[0m\u001b[0;34m)\u001b[0m\u001b[0;34m\u001b[0m\u001b[0;34m\u001b[0m\u001b[0m\n",
            "\u001b[0;31mNameError\u001b[0m: name 'plt' is not defined"
          ]
        }
      ]
    },
    {
      "cell_type": "code",
      "metadata": {
        "id": "7tVzJVQzpfHr"
      },
      "source": [
        ""
      ],
      "execution_count": null,
      "outputs": []
    }
  ]
}