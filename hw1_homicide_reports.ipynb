{
 "cells": [
  {
   "cell_type": "markdown",
   "metadata": {
    "id": "-XfA3Ok1pWqF"
   },
   "source": [
    "# Описание задачи\n",
    "Есть данные о 638454 убийствах в США в период с 1980 по 2014 год. Каждый отчёт включает в себя такие признаки:\n",
    "<ol>\n",
    "    <li>Номер записи</li>\n",
    "    <li>Код, название и тип агенства</li>\n",
    "    <li>Город и штат</li>\n",
    "    <li>Год и месяц</li>\n",
    "    <li>Инцидент (количество)</li>\n",
    "    <li>Тип преступления</li>\n",
    "    <li>Раскрыто преступление или нет</li>\n",
    "    <li>Пол, возраст, раса и этническая принадлежность жертвы</li>\n",
    "    <li>Пол, возраст, раса и этническая принадлежность преступника</li>\n",
    "    <li>Отношения между преступником и жертвой</li>\n",
    "    <li>Оружие</li>\n",
    "    <li>Количество жертв и преступников</li>\n",
    "    <li>Источник отчёта</li>\n",
    "</ol>\n",
    "\n",
    "Задача такая: определить было ли дело раскрыто.\n",
    "\n",
    "# Прочитаем данные\n",
    "\n",
    "Загружаем нужные библиотеки"
   ]
  },
  {
   "cell_type": "code",
   "execution_count": 1,
   "metadata": {
    "id": "-yQYw194prhC"
   },
   "outputs": [],
   "source": [
    "import numpy as np\n",
    "import matplotlib.pyplot as plt\n",
    "import pandas as pd\n",
    "import seaborn as sns           \n",
    "import sklearn   "
   ]
  },
  {
   "cell_type": "code",
   "execution_count": 2,
   "metadata": {
    "colab": {
     "base_uri": "https://localhost:8080/",
     "height": 89,
     "resources": {
      "http://localhost:8080/nbextensions/google.colab/files.js": {
       "data": "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",
       "headers": [
        [
         "content-type",
         "application/javascript"
        ]
       ],
       "ok": true,
       "status": 200,
       "status_text": ""
      }
     }
    },
    "id": "KMbcobwAxz-l",
    "outputId": "fa1df6ef-70a2-4d26-8d6b-d9e69054250a"
   },
   "outputs": [],
   "source": [
    "# from google.colab import files \n",
    "# files.upload()"
   ]
  },
  {
   "cell_type": "code",
   "execution_count": 3,
   "metadata": {
    "id": "DYcti6F2yIF9"
   },
   "outputs": [],
   "source": [
    "# !pip install -q kaggle"
   ]
  },
  {
   "cell_type": "code",
   "execution_count": 4,
   "metadata": {
    "id": "7RGKAIbhyPrX"
   },
   "outputs": [],
   "source": [
    "# !mkdir -p ~/.kaggle \n",
    "# !cp kaggle.json ~/.kaggle/\n",
    "# !chmod 600 ~/.kaggle/kaggle.json"
   ]
  },
  {
   "cell_type": "code",
   "execution_count": 5,
   "metadata": {
    "colab": {
     "base_uri": "https://localhost:8080/"
    },
    "id": "dOlB62Zt5nSx",
    "outputId": "eec3b748-72f0-4bc8-b211-e7045b0814d0"
   },
   "outputs": [],
   "source": [
    "# !kaggle datasets download -d murderaccountability/homicide-reports"
   ]
  },
  {
   "cell_type": "code",
   "execution_count": 6,
   "metadata": {
    "colab": {
     "base_uri": "https://localhost:8080/"
    },
    "id": "u3WZwzVg1H3w",
    "outputId": "bac4c950-f3a9-48b0-c9ba-bd2a8b8e1e25"
   },
   "outputs": [],
   "source": [
    "# !ls"
   ]
  },
  {
   "cell_type": "code",
   "execution_count": 7,
   "metadata": {
    "colab": {
     "base_uri": "https://localhost:8080/"
    },
    "id": "jh4B9UWm6aAP",
    "outputId": "ecee984b-0659-49f8-c0cb-22ccd98d70b7"
   },
   "outputs": [],
   "source": [
    "# !unzip homicide-reports.zip"
   ]
  },
  {
   "cell_type": "code",
   "execution_count": 8,
   "metadata": {
    "id": "QAQAfSlv6zQF"
   },
   "outputs": [],
   "source": [
    "data = pd.read_csv(\"database.csv\", low_memory = False, sep = ',')"
   ]
  },
  {
   "cell_type": "code",
   "execution_count": 9,
   "metadata": {
    "colab": {
     "base_uri": "https://localhost:8080/"
    },
    "id": "6FTEKKbF9afz",
    "outputId": "32f1c013-dddc-40e8-fc94-916a751132d2"
   },
   "outputs": [
    {
     "data": {
      "text/plain": [
       "(638454, 24)"
      ]
     },
     "execution_count": 9,
     "metadata": {},
     "output_type": "execute_result"
    }
   ],
   "source": [
    "data.shape"
   ]
  },
  {
   "cell_type": "markdown",
   "metadata": {
    "id": "V5JmadWAB6Pf"
   },
   "source": [
    "Немного обрежем, иначе потом не хватает RAM для вычислений."
   ]
  },
  {
   "cell_type": "code",
   "execution_count": 10,
   "metadata": {
    "id": "i6lR4SdKBe-z"
   },
   "outputs": [],
   "source": [
    "rows_to_drop = data[(data['Record ID'] > 100000)].index"
   ]
  },
  {
   "cell_type": "code",
   "execution_count": 11,
   "metadata": {
    "colab": {
     "base_uri": "https://localhost:8080/"
    },
    "id": "A3MGJ9XGBPrH",
    "outputId": "728edc8d-eb68-42df-e7ca-831777305f88"
   },
   "outputs": [
    {
     "data": {
      "text/plain": [
       "(100000, 24)"
      ]
     },
     "execution_count": 11,
     "metadata": {},
     "output_type": "execute_result"
    }
   ],
   "source": [
    "data = data.drop(rows_to_drop)\n",
    "data.shape"
   ]
  },
  {
   "cell_type": "code",
   "execution_count": 12,
   "metadata": {
    "id": "sC95z-kKP24D"
   },
   "outputs": [],
   "source": [
    "del data['Record ID']\n",
    "del data['Agency Code']\n",
    "del data['Agency Name']\n",
    "del data['State']\n",
    "del data['Year']"
   ]
  },
  {
   "cell_type": "code",
   "execution_count": 13,
   "metadata": {
    "colab": {
     "base_uri": "https://localhost:8080/"
    },
    "id": "hb_6wbvMQMOK",
    "outputId": "f0e6e623-56bd-4869-b6b8-c956d64f8f2d"
   },
   "outputs": [
    {
     "data": {
      "text/plain": [
       "(100000, 19)"
      ]
     },
     "execution_count": 13,
     "metadata": {},
     "output_type": "execute_result"
    }
   ],
   "source": [
    "data.shape"
   ]
  },
  {
   "cell_type": "markdown",
   "metadata": {
    "id": "m9M2AdYRGUWR"
   },
   "source": [
    "# Визуализация данных и вычисление основных характеристик\n",
    "\n",
    "Таблица:"
   ]
  },
  {
   "cell_type": "code",
   "execution_count": 14,
   "metadata": {
    "colab": {
     "base_uri": "https://localhost:8080/",
     "height": 677
    },
    "id": "7yfNfNkpAVRB",
    "outputId": "c8422eb7-c566-404b-f6fc-0a128e3d73e0"
   },
   "outputs": [
    {
     "data": {
      "text/html": [
       "<div>\n",
       "<style scoped>\n",
       "    .dataframe tbody tr th:only-of-type {\n",
       "        vertical-align: middle;\n",
       "    }\n",
       "\n",
       "    .dataframe tbody tr th {\n",
       "        vertical-align: top;\n",
       "    }\n",
       "\n",
       "    .dataframe thead th {\n",
       "        text-align: right;\n",
       "    }\n",
       "</style>\n",
       "<table border=\"1\" class=\"dataframe\">\n",
       "  <thead>\n",
       "    <tr style=\"text-align: right;\">\n",
       "      <th></th>\n",
       "      <th>Agency Type</th>\n",
       "      <th>City</th>\n",
       "      <th>Month</th>\n",
       "      <th>Incident</th>\n",
       "      <th>Crime Type</th>\n",
       "      <th>Crime Solved</th>\n",
       "      <th>Victim Sex</th>\n",
       "      <th>Victim Age</th>\n",
       "      <th>Victim Race</th>\n",
       "      <th>Victim Ethnicity</th>\n",
       "      <th>Perpetrator Sex</th>\n",
       "      <th>Perpetrator Age</th>\n",
       "      <th>Perpetrator Race</th>\n",
       "      <th>Perpetrator Ethnicity</th>\n",
       "      <th>Relationship</th>\n",
       "      <th>Weapon</th>\n",
       "      <th>Victim Count</th>\n",
       "      <th>Perpetrator Count</th>\n",
       "      <th>Record Source</th>\n",
       "    </tr>\n",
       "  </thead>\n",
       "  <tbody>\n",
       "    <tr>\n",
       "      <th>0</th>\n",
       "      <td>Municipal Police</td>\n",
       "      <td>Anchorage</td>\n",
       "      <td>January</td>\n",
       "      <td>1</td>\n",
       "      <td>Murder or Manslaughter</td>\n",
       "      <td>Yes</td>\n",
       "      <td>Male</td>\n",
       "      <td>14</td>\n",
       "      <td>Native American/Alaska Native</td>\n",
       "      <td>Unknown</td>\n",
       "      <td>Male</td>\n",
       "      <td>15</td>\n",
       "      <td>Native American/Alaska Native</td>\n",
       "      <td>Unknown</td>\n",
       "      <td>Acquaintance</td>\n",
       "      <td>Blunt Object</td>\n",
       "      <td>0</td>\n",
       "      <td>0</td>\n",
       "      <td>FBI</td>\n",
       "    </tr>\n",
       "    <tr>\n",
       "      <th>1</th>\n",
       "      <td>Municipal Police</td>\n",
       "      <td>Anchorage</td>\n",
       "      <td>March</td>\n",
       "      <td>1</td>\n",
       "      <td>Murder or Manslaughter</td>\n",
       "      <td>Yes</td>\n",
       "      <td>Male</td>\n",
       "      <td>43</td>\n",
       "      <td>White</td>\n",
       "      <td>Unknown</td>\n",
       "      <td>Male</td>\n",
       "      <td>42</td>\n",
       "      <td>White</td>\n",
       "      <td>Unknown</td>\n",
       "      <td>Acquaintance</td>\n",
       "      <td>Strangulation</td>\n",
       "      <td>0</td>\n",
       "      <td>0</td>\n",
       "      <td>FBI</td>\n",
       "    </tr>\n",
       "    <tr>\n",
       "      <th>2</th>\n",
       "      <td>Municipal Police</td>\n",
       "      <td>Anchorage</td>\n",
       "      <td>March</td>\n",
       "      <td>2</td>\n",
       "      <td>Murder or Manslaughter</td>\n",
       "      <td>No</td>\n",
       "      <td>Female</td>\n",
       "      <td>30</td>\n",
       "      <td>Native American/Alaska Native</td>\n",
       "      <td>Unknown</td>\n",
       "      <td>Unknown</td>\n",
       "      <td>0</td>\n",
       "      <td>Unknown</td>\n",
       "      <td>Unknown</td>\n",
       "      <td>Unknown</td>\n",
       "      <td>Unknown</td>\n",
       "      <td>0</td>\n",
       "      <td>0</td>\n",
       "      <td>FBI</td>\n",
       "    </tr>\n",
       "    <tr>\n",
       "      <th>3</th>\n",
       "      <td>Municipal Police</td>\n",
       "      <td>Anchorage</td>\n",
       "      <td>April</td>\n",
       "      <td>1</td>\n",
       "      <td>Murder or Manslaughter</td>\n",
       "      <td>Yes</td>\n",
       "      <td>Male</td>\n",
       "      <td>43</td>\n",
       "      <td>White</td>\n",
       "      <td>Unknown</td>\n",
       "      <td>Male</td>\n",
       "      <td>42</td>\n",
       "      <td>White</td>\n",
       "      <td>Unknown</td>\n",
       "      <td>Acquaintance</td>\n",
       "      <td>Strangulation</td>\n",
       "      <td>0</td>\n",
       "      <td>0</td>\n",
       "      <td>FBI</td>\n",
       "    </tr>\n",
       "    <tr>\n",
       "      <th>4</th>\n",
       "      <td>Municipal Police</td>\n",
       "      <td>Anchorage</td>\n",
       "      <td>April</td>\n",
       "      <td>2</td>\n",
       "      <td>Murder or Manslaughter</td>\n",
       "      <td>No</td>\n",
       "      <td>Female</td>\n",
       "      <td>30</td>\n",
       "      <td>Native American/Alaska Native</td>\n",
       "      <td>Unknown</td>\n",
       "      <td>Unknown</td>\n",
       "      <td>0</td>\n",
       "      <td>Unknown</td>\n",
       "      <td>Unknown</td>\n",
       "      <td>Unknown</td>\n",
       "      <td>Unknown</td>\n",
       "      <td>0</td>\n",
       "      <td>1</td>\n",
       "      <td>FBI</td>\n",
       "    </tr>\n",
       "    <tr>\n",
       "      <th>...</th>\n",
       "      <td>...</td>\n",
       "      <td>...</td>\n",
       "      <td>...</td>\n",
       "      <td>...</td>\n",
       "      <td>...</td>\n",
       "      <td>...</td>\n",
       "      <td>...</td>\n",
       "      <td>...</td>\n",
       "      <td>...</td>\n",
       "      <td>...</td>\n",
       "      <td>...</td>\n",
       "      <td>...</td>\n",
       "      <td>...</td>\n",
       "      <td>...</td>\n",
       "      <td>...</td>\n",
       "      <td>...</td>\n",
       "      <td>...</td>\n",
       "      <td>...</td>\n",
       "      <td>...</td>\n",
       "    </tr>\n",
       "    <tr>\n",
       "      <th>99995</th>\n",
       "      <td>Municipal Police</td>\n",
       "      <td>Jackson</td>\n",
       "      <td>July</td>\n",
       "      <td>1</td>\n",
       "      <td>Murder or Manslaughter</td>\n",
       "      <td>Yes</td>\n",
       "      <td>Male</td>\n",
       "      <td>22</td>\n",
       "      <td>Black</td>\n",
       "      <td>Not Hispanic</td>\n",
       "      <td>Male</td>\n",
       "      <td>22</td>\n",
       "      <td>Black</td>\n",
       "      <td>Not Hispanic</td>\n",
       "      <td>Acquaintance</td>\n",
       "      <td>Handgun</td>\n",
       "      <td>0</td>\n",
       "      <td>0</td>\n",
       "      <td>FBI</td>\n",
       "    </tr>\n",
       "    <tr>\n",
       "      <th>99996</th>\n",
       "      <td>Sheriff</td>\n",
       "      <td>Jasper</td>\n",
       "      <td>September</td>\n",
       "      <td>1</td>\n",
       "      <td>Murder or Manslaughter</td>\n",
       "      <td>Yes</td>\n",
       "      <td>Male</td>\n",
       "      <td>32</td>\n",
       "      <td>White</td>\n",
       "      <td>Hispanic</td>\n",
       "      <td>Male</td>\n",
       "      <td>21</td>\n",
       "      <td>White</td>\n",
       "      <td>Hispanic</td>\n",
       "      <td>Acquaintance</td>\n",
       "      <td>Shotgun</td>\n",
       "      <td>0</td>\n",
       "      <td>1</td>\n",
       "      <td>FBI</td>\n",
       "    </tr>\n",
       "    <tr>\n",
       "      <th>99997</th>\n",
       "      <td>Sheriff</td>\n",
       "      <td>Jefferson</td>\n",
       "      <td>March</td>\n",
       "      <td>1</td>\n",
       "      <td>Murder or Manslaughter</td>\n",
       "      <td>Yes</td>\n",
       "      <td>Female</td>\n",
       "      <td>23</td>\n",
       "      <td>White</td>\n",
       "      <td>Not Hispanic</td>\n",
       "      <td>Male</td>\n",
       "      <td>39</td>\n",
       "      <td>White</td>\n",
       "      <td>Not Hispanic</td>\n",
       "      <td>Stranger</td>\n",
       "      <td>Knife</td>\n",
       "      <td>0</td>\n",
       "      <td>0</td>\n",
       "      <td>FBI</td>\n",
       "    </tr>\n",
       "    <tr>\n",
       "      <th>99998</th>\n",
       "      <td>Sheriff</td>\n",
       "      <td>Jefferson</td>\n",
       "      <td>July</td>\n",
       "      <td>1</td>\n",
       "      <td>Murder or Manslaughter</td>\n",
       "      <td>Yes</td>\n",
       "      <td>Female</td>\n",
       "      <td>69</td>\n",
       "      <td>White</td>\n",
       "      <td>Not Hispanic</td>\n",
       "      <td>Male</td>\n",
       "      <td>19</td>\n",
       "      <td>White</td>\n",
       "      <td>Not Hispanic</td>\n",
       "      <td>Family</td>\n",
       "      <td>Knife</td>\n",
       "      <td>0</td>\n",
       "      <td>0</td>\n",
       "      <td>FBI</td>\n",
       "    </tr>\n",
       "    <tr>\n",
       "      <th>99999</th>\n",
       "      <td>Sheriff</td>\n",
       "      <td>Jefferson</td>\n",
       "      <td>October</td>\n",
       "      <td>1</td>\n",
       "      <td>Murder or Manslaughter</td>\n",
       "      <td>Yes</td>\n",
       "      <td>Male</td>\n",
       "      <td>33</td>\n",
       "      <td>White</td>\n",
       "      <td>Not Hispanic</td>\n",
       "      <td>Male</td>\n",
       "      <td>22</td>\n",
       "      <td>White</td>\n",
       "      <td>Not Hispanic</td>\n",
       "      <td>Friend</td>\n",
       "      <td>Handgun</td>\n",
       "      <td>0</td>\n",
       "      <td>0</td>\n",
       "      <td>FBI</td>\n",
       "    </tr>\n",
       "  </tbody>\n",
       "</table>\n",
       "<p>100000 rows × 19 columns</p>\n",
       "</div>"
      ],
      "text/plain": [
       "            Agency Type       City      Month  Incident  \\\n",
       "0      Municipal Police  Anchorage    January         1   \n",
       "1      Municipal Police  Anchorage      March         1   \n",
       "2      Municipal Police  Anchorage      March         2   \n",
       "3      Municipal Police  Anchorage      April         1   \n",
       "4      Municipal Police  Anchorage      April         2   \n",
       "...                 ...        ...        ...       ...   \n",
       "99995  Municipal Police    Jackson       July         1   \n",
       "99996           Sheriff     Jasper  September         1   \n",
       "99997           Sheriff  Jefferson      March         1   \n",
       "99998           Sheriff  Jefferson       July         1   \n",
       "99999           Sheriff  Jefferson    October         1   \n",
       "\n",
       "                   Crime Type Crime Solved Victim Sex  Victim Age  \\\n",
       "0      Murder or Manslaughter          Yes       Male          14   \n",
       "1      Murder or Manslaughter          Yes       Male          43   \n",
       "2      Murder or Manslaughter           No     Female          30   \n",
       "3      Murder or Manslaughter          Yes       Male          43   \n",
       "4      Murder or Manslaughter           No     Female          30   \n",
       "...                       ...          ...        ...         ...   \n",
       "99995  Murder or Manslaughter          Yes       Male          22   \n",
       "99996  Murder or Manslaughter          Yes       Male          32   \n",
       "99997  Murder or Manslaughter          Yes     Female          23   \n",
       "99998  Murder or Manslaughter          Yes     Female          69   \n",
       "99999  Murder or Manslaughter          Yes       Male          33   \n",
       "\n",
       "                         Victim Race Victim Ethnicity Perpetrator Sex  \\\n",
       "0      Native American/Alaska Native          Unknown            Male   \n",
       "1                              White          Unknown            Male   \n",
       "2      Native American/Alaska Native          Unknown         Unknown   \n",
       "3                              White          Unknown            Male   \n",
       "4      Native American/Alaska Native          Unknown         Unknown   \n",
       "...                              ...              ...             ...   \n",
       "99995                          Black     Not Hispanic            Male   \n",
       "99996                          White         Hispanic            Male   \n",
       "99997                          White     Not Hispanic            Male   \n",
       "99998                          White     Not Hispanic            Male   \n",
       "99999                          White     Not Hispanic            Male   \n",
       "\n",
       "      Perpetrator Age               Perpetrator Race Perpetrator Ethnicity  \\\n",
       "0                  15  Native American/Alaska Native               Unknown   \n",
       "1                  42                          White               Unknown   \n",
       "2                   0                        Unknown               Unknown   \n",
       "3                  42                          White               Unknown   \n",
       "4                   0                        Unknown               Unknown   \n",
       "...               ...                            ...                   ...   \n",
       "99995              22                          Black          Not Hispanic   \n",
       "99996              21                          White              Hispanic   \n",
       "99997              39                          White          Not Hispanic   \n",
       "99998              19                          White          Not Hispanic   \n",
       "99999              22                          White          Not Hispanic   \n",
       "\n",
       "       Relationship         Weapon  Victim Count  Perpetrator Count  \\\n",
       "0      Acquaintance   Blunt Object             0                  0   \n",
       "1      Acquaintance  Strangulation             0                  0   \n",
       "2           Unknown        Unknown             0                  0   \n",
       "3      Acquaintance  Strangulation             0                  0   \n",
       "4           Unknown        Unknown             0                  1   \n",
       "...             ...            ...           ...                ...   \n",
       "99995  Acquaintance        Handgun             0                  0   \n",
       "99996  Acquaintance        Shotgun             0                  1   \n",
       "99997      Stranger          Knife             0                  0   \n",
       "99998        Family          Knife             0                  0   \n",
       "99999        Friend        Handgun             0                  0   \n",
       "\n",
       "      Record Source  \n",
       "0               FBI  \n",
       "1               FBI  \n",
       "2               FBI  \n",
       "3               FBI  \n",
       "4               FBI  \n",
       "...             ...  \n",
       "99995           FBI  \n",
       "99996           FBI  \n",
       "99997           FBI  \n",
       "99998           FBI  \n",
       "99999           FBI  \n",
       "\n",
       "[100000 rows x 19 columns]"
      ]
     },
     "execution_count": 14,
     "metadata": {},
     "output_type": "execute_result"
    }
   ],
   "source": [
    "data"
   ]
  },
  {
   "cell_type": "markdown",
   "metadata": {
    "id": "lzLzHgL1KCe9"
   },
   "source": [
    "Признак **Crime Solved** - бинарный, признаки **Incident, Victim Age, Perpetdator Age, Victim Count,  Perpetdator Count** - числовые, остальные - номинальные (категориальные).\n",
    "\n",
    "Нужно предсказать признак **Crime Solved** по остальным признакам - это задача классификации."
   ]
  },
  {
   "cell_type": "code",
   "execution_count": 15,
   "metadata": {
    "id": "tkWIrvEdQTnJ"
   },
   "outputs": [],
   "source": [
    "data['Perpetrator Age'] = pd.to_numeric(data['Perpetrator Age'], errors='coerce')"
   ]
  },
  {
   "cell_type": "code",
   "execution_count": 16,
   "metadata": {
    "colab": {
     "base_uri": "https://localhost:8080/",
     "height": 297
    },
    "id": "CDmoOuRDx7Tz",
    "outputId": "70680e64-8197-4c0e-ccd7-0f14e9fcbfe6"
   },
   "outputs": [
    {
     "data": {
      "text/html": [
       "<div>\n",
       "<style scoped>\n",
       "    .dataframe tbody tr th:only-of-type {\n",
       "        vertical-align: middle;\n",
       "    }\n",
       "\n",
       "    .dataframe tbody tr th {\n",
       "        vertical-align: top;\n",
       "    }\n",
       "\n",
       "    .dataframe thead th {\n",
       "        text-align: right;\n",
       "    }\n",
       "</style>\n",
       "<table border=\"1\" class=\"dataframe\">\n",
       "  <thead>\n",
       "    <tr style=\"text-align: right;\">\n",
       "      <th></th>\n",
       "      <th>Incident</th>\n",
       "      <th>Victim Age</th>\n",
       "      <th>Perpetrator Age</th>\n",
       "      <th>Victim Count</th>\n",
       "      <th>Perpetrator Count</th>\n",
       "    </tr>\n",
       "  </thead>\n",
       "  <tbody>\n",
       "    <tr>\n",
       "      <th>count</th>\n",
       "      <td>100000.000000</td>\n",
       "      <td>100000.000000</td>\n",
       "      <td>100000.00000</td>\n",
       "      <td>100000.000000</td>\n",
       "      <td>100000.000000</td>\n",
       "    </tr>\n",
       "    <tr>\n",
       "      <th>mean</th>\n",
       "      <td>13.464350</td>\n",
       "      <td>35.918050</td>\n",
       "      <td>22.39331</td>\n",
       "      <td>0.110400</td>\n",
       "      <td>0.145850</td>\n",
       "    </tr>\n",
       "    <tr>\n",
       "      <th>std</th>\n",
       "      <td>27.021051</td>\n",
       "      <td>34.634307</td>\n",
       "      <td>17.83843</td>\n",
       "      <td>0.546347</td>\n",
       "      <td>0.476928</td>\n",
       "    </tr>\n",
       "    <tr>\n",
       "      <th>min</th>\n",
       "      <td>1.000000</td>\n",
       "      <td>0.000000</td>\n",
       "      <td>0.00000</td>\n",
       "      <td>0.000000</td>\n",
       "      <td>0.000000</td>\n",
       "    </tr>\n",
       "    <tr>\n",
       "      <th>25%</th>\n",
       "      <td>1.000000</td>\n",
       "      <td>23.000000</td>\n",
       "      <td>0.00000</td>\n",
       "      <td>0.000000</td>\n",
       "      <td>0.000000</td>\n",
       "    </tr>\n",
       "    <tr>\n",
       "      <th>50%</th>\n",
       "      <td>2.000000</td>\n",
       "      <td>31.000000</td>\n",
       "      <td>23.00000</td>\n",
       "      <td>0.000000</td>\n",
       "      <td>0.000000</td>\n",
       "    </tr>\n",
       "    <tr>\n",
       "      <th>75%</th>\n",
       "      <td>10.000000</td>\n",
       "      <td>43.000000</td>\n",
       "      <td>33.00000</td>\n",
       "      <td>0.000000</td>\n",
       "      <td>0.000000</td>\n",
       "    </tr>\n",
       "    <tr>\n",
       "      <th>max</th>\n",
       "      <td>994.000000</td>\n",
       "      <td>998.000000</td>\n",
       "      <td>99.00000</td>\n",
       "      <td>9.000000</td>\n",
       "      <td>10.000000</td>\n",
       "    </tr>\n",
       "  </tbody>\n",
       "</table>\n",
       "</div>"
      ],
      "text/plain": [
       "            Incident     Victim Age  Perpetrator Age   Victim Count  \\\n",
       "count  100000.000000  100000.000000     100000.00000  100000.000000   \n",
       "mean       13.464350      35.918050         22.39331       0.110400   \n",
       "std        27.021051      34.634307         17.83843       0.546347   \n",
       "min         1.000000       0.000000          0.00000       0.000000   \n",
       "25%         1.000000      23.000000          0.00000       0.000000   \n",
       "50%         2.000000      31.000000         23.00000       0.000000   \n",
       "75%        10.000000      43.000000         33.00000       0.000000   \n",
       "max       994.000000     998.000000         99.00000       9.000000   \n",
       "\n",
       "       Perpetrator Count  \n",
       "count      100000.000000  \n",
       "mean            0.145850  \n",
       "std             0.476928  \n",
       "min             0.000000  \n",
       "25%             0.000000  \n",
       "50%             0.000000  \n",
       "75%             0.000000  \n",
       "max            10.000000  "
      ]
     },
     "execution_count": 16,
     "metadata": {},
     "output_type": "execute_result"
    }
   ],
   "source": [
    "data.describe()"
   ]
  },
  {
   "cell_type": "code",
   "execution_count": 17,
   "metadata": {
    "colab": {
     "base_uri": "https://localhost:8080/",
     "height": 207
    },
    "id": "XkF6gr4dzwTT",
    "outputId": "ecb6fc38-2585-43ee-a4fb-17eb6e967d66"
   },
   "outputs": [
    {
     "data": {
      "text/html": [
       "<div>\n",
       "<style scoped>\n",
       "    .dataframe tbody tr th:only-of-type {\n",
       "        vertical-align: middle;\n",
       "    }\n",
       "\n",
       "    .dataframe tbody tr th {\n",
       "        vertical-align: top;\n",
       "    }\n",
       "\n",
       "    .dataframe thead th {\n",
       "        text-align: right;\n",
       "    }\n",
       "</style>\n",
       "<table border=\"1\" class=\"dataframe\">\n",
       "  <thead>\n",
       "    <tr style=\"text-align: right;\">\n",
       "      <th></th>\n",
       "      <th>Agency Type</th>\n",
       "      <th>City</th>\n",
       "      <th>Month</th>\n",
       "      <th>Crime Type</th>\n",
       "      <th>Crime Solved</th>\n",
       "      <th>Victim Sex</th>\n",
       "      <th>Victim Race</th>\n",
       "      <th>Victim Ethnicity</th>\n",
       "      <th>Perpetrator Sex</th>\n",
       "      <th>Perpetrator Race</th>\n",
       "      <th>Perpetrator Ethnicity</th>\n",
       "      <th>Relationship</th>\n",
       "      <th>Weapon</th>\n",
       "      <th>Record Source</th>\n",
       "    </tr>\n",
       "  </thead>\n",
       "  <tbody>\n",
       "    <tr>\n",
       "      <th>count</th>\n",
       "      <td>100000</td>\n",
       "      <td>100000</td>\n",
       "      <td>100000</td>\n",
       "      <td>100000</td>\n",
       "      <td>100000</td>\n",
       "      <td>100000</td>\n",
       "      <td>100000</td>\n",
       "      <td>100000</td>\n",
       "      <td>100000</td>\n",
       "      <td>100000</td>\n",
       "      <td>100000</td>\n",
       "      <td>100000</td>\n",
       "      <td>100000</td>\n",
       "      <td>100000</td>\n",
       "    </tr>\n",
       "    <tr>\n",
       "      <th>unique</th>\n",
       "      <td>7</td>\n",
       "      <td>1574</td>\n",
       "      <td>12</td>\n",
       "      <td>2</td>\n",
       "      <td>2</td>\n",
       "      <td>3</td>\n",
       "      <td>5</td>\n",
       "      <td>3</td>\n",
       "      <td>3</td>\n",
       "      <td>5</td>\n",
       "      <td>3</td>\n",
       "      <td>28</td>\n",
       "      <td>16</td>\n",
       "      <td>1</td>\n",
       "    </tr>\n",
       "    <tr>\n",
       "      <th>top</th>\n",
       "      <td>Municipal Police</td>\n",
       "      <td>New York</td>\n",
       "      <td>August</td>\n",
       "      <td>Murder or Manslaughter</td>\n",
       "      <td>Yes</td>\n",
       "      <td>Male</td>\n",
       "      <td>White</td>\n",
       "      <td>Not Hispanic</td>\n",
       "      <td>Male</td>\n",
       "      <td>White</td>\n",
       "      <td>Unknown</td>\n",
       "      <td>Unknown</td>\n",
       "      <td>Handgun</td>\n",
       "      <td>FBI</td>\n",
       "    </tr>\n",
       "    <tr>\n",
       "      <th>freq</th>\n",
       "      <td>76131</td>\n",
       "      <td>8352</td>\n",
       "      <td>9070</td>\n",
       "      <td>98753</td>\n",
       "      <td>73271</td>\n",
       "      <td>76942</td>\n",
       "      <td>54273</td>\n",
       "      <td>59443</td>\n",
       "      <td>63009</td>\n",
       "      <td>37051</td>\n",
       "      <td>45625</td>\n",
       "      <td>31681</td>\n",
       "      <td>45749</td>\n",
       "      <td>100000</td>\n",
       "    </tr>\n",
       "  </tbody>\n",
       "</table>\n",
       "</div>"
      ],
      "text/plain": [
       "             Agency Type      City   Month              Crime Type  \\\n",
       "count             100000    100000  100000                  100000   \n",
       "unique                 7      1574      12                       2   \n",
       "top     Municipal Police  New York  August  Murder or Manslaughter   \n",
       "freq               76131      8352    9070                   98753   \n",
       "\n",
       "       Crime Solved Victim Sex Victim Race Victim Ethnicity Perpetrator Sex  \\\n",
       "count        100000     100000      100000           100000          100000   \n",
       "unique            2          3           5                3               3   \n",
       "top             Yes       Male       White     Not Hispanic            Male   \n",
       "freq          73271      76942       54273            59443           63009   \n",
       "\n",
       "       Perpetrator Race Perpetrator Ethnicity Relationship   Weapon  \\\n",
       "count            100000                100000       100000   100000   \n",
       "unique                5                     3           28       16   \n",
       "top               White               Unknown      Unknown  Handgun   \n",
       "freq              37051                 45625        31681    45749   \n",
       "\n",
       "       Record Source  \n",
       "count         100000  \n",
       "unique             1  \n",
       "top              FBI  \n",
       "freq          100000  "
      ]
     },
     "execution_count": 17,
     "metadata": {},
     "output_type": "execute_result"
    }
   ],
   "source": [
    "data.describe(include=['object'])"
   ]
  },
  {
   "cell_type": "code",
   "execution_count": 18,
   "metadata": {
    "colab": {
     "base_uri": "https://localhost:8080/",
     "height": 617
    },
    "id": "wq1T4OL4yQ96",
    "outputId": "0394fefb-697f-448b-8f21-47ea524ef51f"
   },
   "outputs": [
    {
     "data": {
      "image/png": "[encoded data removed]",
      "text/plain": [
       "<Figure size 720x720 with 25 Axes>"
      ]
     },
     "metadata": {
      "needs_background": "light"
     },
     "output_type": "display_data"
    }
   ],
   "source": [
    "from pandas.plotting import scatter_matrix\n",
    "scatter_matrix(data, alpha = .01, figsize = (10, 10))\n",
    "pass"
   ]
  },
  {
   "cell_type": "code",
   "execution_count": 19,
   "metadata": {
    "colab": {
     "base_uri": "https://localhost:8080/"
    },
    "id": "kaY-g-2z9WA0",
    "outputId": "742d01d2-1a76-408d-c6a5-aeee9c599a2f"
   },
   "outputs": [
    {
     "data": {
      "text/plain": [
       "0.005     0.0\n",
       "0.010     0.0\n",
       "0.050    15.0\n",
       "0.100    18.0\n",
       "0.500    31.0\n",
       "0.900    60.0\n",
       "0.950    71.0\n",
       "0.995    99.0\n",
       "Name: Victim Age, dtype: float64"
      ]
     },
     "execution_count": 19,
     "metadata": {},
     "output_type": "execute_result"
    }
   ],
   "source": [
    "data['Victim Age'].quantile([0.005, .01, .05, .1, .5, .9, .95, .995])"
   ]
  },
  {
   "cell_type": "code",
   "execution_count": 20,
   "metadata": {
    "colab": {
     "base_uri": "https://localhost:8080/"
    },
    "id": "yqVXIQE2ESWz",
    "outputId": "c9ff60ed-ddef-44bf-a46a-c063b95ef18d"
   },
   "outputs": [
    {
     "data": {
      "text/plain": [
       "0.005     0.0\n",
       "0.010     0.0\n",
       "0.050     0.0\n",
       "0.100     0.0\n",
       "0.500    23.0\n",
       "0.900    45.0\n",
       "0.950    54.0\n",
       "0.995    74.0\n",
       "Name: Perpetrator Age, dtype: float64"
      ]
     },
     "execution_count": 20,
     "metadata": {},
     "output_type": "execute_result"
    }
   ],
   "source": [
    "data['Perpetrator Age'].quantile([0.005, .01, .05, .1, .5, .9, .95, .995])"
   ]
  },
  {
   "cell_type": "markdown",
   "metadata": {
    "id": "Pyfg1lgeZQ02"
   },
   "source": [
    "#Интерпретация\n",
    "\n",
    "Обычно жертва - это белый мужчина от 22 до 42 лет, преступник - белый мужчина в возрасте от 20 до 31 года. Самое популярно орудие убийства - пистолет. Чаще всего преступления совершаются в Лос-Анджелесе."
   ]
  },
  {
   "cell_type": "code",
   "execution_count": 21,
   "metadata": {
    "colab": {
     "base_uri": "https://localhost:8080/",
     "height": 279
    },
    "id": "CrxnCy2jP5qG",
    "outputId": "e4c70a5c-2a80-441a-caa9-676df4f2e3b3"
   },
   "outputs": [
    {
     "data": {
      "image/png": "[encoded data removed]",
      "text/plain": [
       "<Figure size 432x288 with 1 Axes>"
      ]
     },
     "metadata": {
      "needs_background": "light"
     },
     "output_type": "display_data"
    }
   ],
   "source": [
    "np.random.seed(42)\n",
    "random_subset = np.random.choice(np.arange(data.shape[0]), size=1000, replace=False)\n",
    "plt.scatter(data.iloc[random_subset]['Perpetrator Age'], data.iloc[random_subset]['Weapon'], alpha = .3)\n",
    "plt.xlabel('Perpetrator Age')\n",
    "plt.ylabel('Weapon')\n",
    "pass"
   ]
  },
  {
   "cell_type": "markdown",
   "metadata": {
    "id": "nfANcyxfMcmg"
   },
   "source": [
    "По этой диаграмме рассеивания видно, что чем старше преступник, тем чаще он выбирает огнестрельное оружие"
   ]
  },
  {
   "cell_type": "code",
   "execution_count": 22,
   "metadata": {
    "id": "ypWi9Nd8aQzb"
   },
   "outputs": [],
   "source": [
    "corr_mat = data.corr()"
   ]
  },
  {
   "cell_type": "code",
   "execution_count": 23,
   "metadata": {
    "colab": {
     "base_uri": "https://localhost:8080/",
     "height": 348
    },
    "id": "ZHSSQyRhLdxb",
    "outputId": "43e95f3c-0b77-4f8b-b9b5-cf503b92e198"
   },
   "outputs": [
    {
     "data": {
      "image/png": "[encoded data removed]",
      "text/plain": [
       "<Figure size 432x288 with 2 Axes>"
      ]
     },
     "metadata": {
      "needs_background": "light"
     },
     "output_type": "display_data"
    }
   ],
   "source": [
    "sns.heatmap(corr_mat, square=True, cmap='coolwarm')\n",
    "pass"
   ]
  },
  {
   "cell_type": "markdown",
   "metadata": {
    "id": "Tj1p6FjqVRXq"
   },
   "source": [
    "Большой корелляции между признаками нет."
   ]
  },
  {
   "cell_type": "markdown",
   "metadata": {
    "id": "hm0TCsNcYwG5"
   },
   "source": [
    "#Заполнение пропущенных значений"
   ]
  },
  {
   "cell_type": "markdown",
   "metadata": {
    "id": "MkpZ_GY4Y1wx"
   },
   "source": [
    "В нераскрытых делах возраст преступника указан как 0. И в некоторых делах возраст жертвы указан как 0. Будем считать это тоже пропущенными значениями и заполним из медианой."
   ]
  },
  {
   "cell_type": "code",
   "execution_count": 24,
   "metadata": {
    "id": "-EiyENXRXxw_"
   },
   "outputs": [],
   "source": [
    "data['Victim Age'] = data['Victim Age'].replace(0, data['Victim Age'].median()) \n",
    "data['Perpetrator Age'] = data['Perpetrator Age'].replace(0, data['Perpetrator Age'].median()) "
   ]
  },
  {
   "cell_type": "markdown",
   "metadata": {
    "id": "MaPOb-VYdtOW"
   },
   "source": [
    "#Обработаем категориальные признаки"
   ]
  },
  {
   "cell_type": "code",
   "execution_count": 25,
   "metadata": {
    "colab": {
     "base_uri": "https://localhost:8080/"
    },
    "id": "MpnF7iMsREYq",
    "outputId": "e1ded33e-5ea9-4f1b-a41d-a80677efa5e6"
   },
   "outputs": [
    {
     "name": "stdout",
     "output_type": "stream",
     "text": [
      "['Agency Type', 'City', 'Month', 'Crime Type', 'Crime Solved', 'Victim Sex', 'Victim Race', 'Victim Ethnicity', 'Perpetrator Sex', 'Perpetrator Race', 'Perpetrator Ethnicity', 'Relationship', 'Weapon', 'Record Source']\n",
      "['Incident', 'Victim Age', 'Perpetrator Age', 'Victim Count', 'Perpetrator Count']\n"
     ]
    }
   ],
   "source": [
    "categorical_columns = [c for c in data.columns if data[c].dtype.name == 'object']\n",
    "numerical_columns   = [c for c in data.columns if data[c].dtype.name != 'object']\n",
    "print(categorical_columns)\n",
    "print(numerical_columns)"
   ]
  },
  {
   "cell_type": "code",
   "execution_count": 26,
   "metadata": {
    "id": "QNPpWXFySO5d"
   },
   "outputs": [],
   "source": [
    "data_describe = data.describe(include = [object])\n",
    "for c in categorical_columns:\n",
    "    data[c] = data[c].fillna(data_describe[c]['top'])"
   ]
  },
  {
   "cell_type": "markdown",
   "metadata": {
    "id": "uaapSSQvhDyE"
   },
   "source": [
    "Бинарные:"
   ]
  },
  {
   "cell_type": "code",
   "execution_count": 27,
   "metadata": {
    "colab": {
     "base_uri": "https://localhost:8080/"
    },
    "id": "q3eaj4liPs7i",
    "outputId": "21b98812-34b4-4262-b33f-1a2f081ca10c"
   },
   "outputs": [
    {
     "name": "stdout",
     "output_type": "stream",
     "text": [
      "['Crime Type', 'Crime Solved'] ['Agency Type', 'City', 'Month', 'Victim Sex', 'Victim Race', 'Victim Ethnicity', 'Perpetrator Sex', 'Perpetrator Race', 'Perpetrator Ethnicity', 'Relationship', 'Weapon']\n"
     ]
    }
   ],
   "source": [
    "binary_columns    = [c for c in categorical_columns if data_describe[c]['unique'] == 2]\n",
    "nonbinary_columns = [c for c in categorical_columns if data_describe[c]['unique'] > 2]\n",
    "print(binary_columns, nonbinary_columns)"
   ]
  },
  {
   "cell_type": "code",
   "execution_count": 28,
   "metadata": {
    "id": "phVNMKt3aEwA"
   },
   "outputs": [],
   "source": [
    "data['Crime Type'] = pd.factorize(data['Crime Type'])[0]\n",
    "data['Crime Solved'] = pd.factorize(data['Crime Solved'])[0]\n",
    "data['Record Source'] = pd.factorize(data['Record Source'])[0]"
   ]
  },
  {
   "cell_type": "markdown",
   "metadata": {
    "id": "KGoBzRaXhGTj"
   },
   "source": [
    "Небинарные:"
   ]
  },
  {
   "cell_type": "code",
   "execution_count": 29,
   "metadata": {
    "colab": {
     "base_uri": "https://localhost:8080/",
     "height": 419
    },
    "id": "ISPgu1flSnXw",
    "outputId": "6e83c68e-5bfe-43ae-e53e-7b243a60813f"
   },
   "outputs": [
    {
     "data": {
      "text/html": [
       "<div>\n",
       "<style scoped>\n",
       "    .dataframe tbody tr th:only-of-type {\n",
       "        vertical-align: middle;\n",
       "    }\n",
       "\n",
       "    .dataframe tbody tr th {\n",
       "        vertical-align: top;\n",
       "    }\n",
       "\n",
       "    .dataframe thead th {\n",
       "        text-align: right;\n",
       "    }\n",
       "</style>\n",
       "<table border=\"1\" class=\"dataframe\">\n",
       "  <thead>\n",
       "    <tr style=\"text-align: right;\">\n",
       "      <th></th>\n",
       "      <th>Agency Type</th>\n",
       "      <th>City</th>\n",
       "      <th>Month</th>\n",
       "      <th>Victim Sex</th>\n",
       "      <th>Victim Race</th>\n",
       "      <th>Victim Ethnicity</th>\n",
       "      <th>Perpetrator Sex</th>\n",
       "      <th>Perpetrator Race</th>\n",
       "      <th>Perpetrator Ethnicity</th>\n",
       "      <th>Relationship</th>\n",
       "      <th>Weapon</th>\n",
       "    </tr>\n",
       "  </thead>\n",
       "  <tbody>\n",
       "    <tr>\n",
       "      <th>0</th>\n",
       "      <td>Municipal Police</td>\n",
       "      <td>Anchorage</td>\n",
       "      <td>January</td>\n",
       "      <td>Male</td>\n",
       "      <td>Native American/Alaska Native</td>\n",
       "      <td>Unknown</td>\n",
       "      <td>Male</td>\n",
       "      <td>Native American/Alaska Native</td>\n",
       "      <td>Unknown</td>\n",
       "      <td>Acquaintance</td>\n",
       "      <td>Blunt Object</td>\n",
       "    </tr>\n",
       "    <tr>\n",
       "      <th>1</th>\n",
       "      <td>Municipal Police</td>\n",
       "      <td>Anchorage</td>\n",
       "      <td>March</td>\n",
       "      <td>Male</td>\n",
       "      <td>White</td>\n",
       "      <td>Unknown</td>\n",
       "      <td>Male</td>\n",
       "      <td>White</td>\n",
       "      <td>Unknown</td>\n",
       "      <td>Acquaintance</td>\n",
       "      <td>Strangulation</td>\n",
       "    </tr>\n",
       "    <tr>\n",
       "      <th>2</th>\n",
       "      <td>Municipal Police</td>\n",
       "      <td>Anchorage</td>\n",
       "      <td>March</td>\n",
       "      <td>Female</td>\n",
       "      <td>Native American/Alaska Native</td>\n",
       "      <td>Unknown</td>\n",
       "      <td>Unknown</td>\n",
       "      <td>Unknown</td>\n",
       "      <td>Unknown</td>\n",
       "      <td>Unknown</td>\n",
       "      <td>Unknown</td>\n",
       "    </tr>\n",
       "    <tr>\n",
       "      <th>3</th>\n",
       "      <td>Municipal Police</td>\n",
       "      <td>Anchorage</td>\n",
       "      <td>April</td>\n",
       "      <td>Male</td>\n",
       "      <td>White</td>\n",
       "      <td>Unknown</td>\n",
       "      <td>Male</td>\n",
       "      <td>White</td>\n",
       "      <td>Unknown</td>\n",
       "      <td>Acquaintance</td>\n",
       "      <td>Strangulation</td>\n",
       "    </tr>\n",
       "    <tr>\n",
       "      <th>4</th>\n",
       "      <td>Municipal Police</td>\n",
       "      <td>Anchorage</td>\n",
       "      <td>April</td>\n",
       "      <td>Female</td>\n",
       "      <td>Native American/Alaska Native</td>\n",
       "      <td>Unknown</td>\n",
       "      <td>Unknown</td>\n",
       "      <td>Unknown</td>\n",
       "      <td>Unknown</td>\n",
       "      <td>Unknown</td>\n",
       "      <td>Unknown</td>\n",
       "    </tr>\n",
       "    <tr>\n",
       "      <th>...</th>\n",
       "      <td>...</td>\n",
       "      <td>...</td>\n",
       "      <td>...</td>\n",
       "      <td>...</td>\n",
       "      <td>...</td>\n",
       "      <td>...</td>\n",
       "      <td>...</td>\n",
       "      <td>...</td>\n",
       "      <td>...</td>\n",
       "      <td>...</td>\n",
       "      <td>...</td>\n",
       "    </tr>\n",
       "    <tr>\n",
       "      <th>99995</th>\n",
       "      <td>Municipal Police</td>\n",
       "      <td>Jackson</td>\n",
       "      <td>July</td>\n",
       "      <td>Male</td>\n",
       "      <td>Black</td>\n",
       "      <td>Not Hispanic</td>\n",
       "      <td>Male</td>\n",
       "      <td>Black</td>\n",
       "      <td>Not Hispanic</td>\n",
       "      <td>Acquaintance</td>\n",
       "      <td>Handgun</td>\n",
       "    </tr>\n",
       "    <tr>\n",
       "      <th>99996</th>\n",
       "      <td>Sheriff</td>\n",
       "      <td>Jasper</td>\n",
       "      <td>September</td>\n",
       "      <td>Male</td>\n",
       "      <td>White</td>\n",
       "      <td>Hispanic</td>\n",
       "      <td>Male</td>\n",
       "      <td>White</td>\n",
       "      <td>Hispanic</td>\n",
       "      <td>Acquaintance</td>\n",
       "      <td>Shotgun</td>\n",
       "    </tr>\n",
       "    <tr>\n",
       "      <th>99997</th>\n",
       "      <td>Sheriff</td>\n",
       "      <td>Jefferson</td>\n",
       "      <td>March</td>\n",
       "      <td>Female</td>\n",
       "      <td>White</td>\n",
       "      <td>Not Hispanic</td>\n",
       "      <td>Male</td>\n",
       "      <td>White</td>\n",
       "      <td>Not Hispanic</td>\n",
       "      <td>Stranger</td>\n",
       "      <td>Knife</td>\n",
       "    </tr>\n",
       "    <tr>\n",
       "      <th>99998</th>\n",
       "      <td>Sheriff</td>\n",
       "      <td>Jefferson</td>\n",
       "      <td>July</td>\n",
       "      <td>Female</td>\n",
       "      <td>White</td>\n",
       "      <td>Not Hispanic</td>\n",
       "      <td>Male</td>\n",
       "      <td>White</td>\n",
       "      <td>Not Hispanic</td>\n",
       "      <td>Family</td>\n",
       "      <td>Knife</td>\n",
       "    </tr>\n",
       "    <tr>\n",
       "      <th>99999</th>\n",
       "      <td>Sheriff</td>\n",
       "      <td>Jefferson</td>\n",
       "      <td>October</td>\n",
       "      <td>Male</td>\n",
       "      <td>White</td>\n",
       "      <td>Not Hispanic</td>\n",
       "      <td>Male</td>\n",
       "      <td>White</td>\n",
       "      <td>Not Hispanic</td>\n",
       "      <td>Friend</td>\n",
       "      <td>Handgun</td>\n",
       "    </tr>\n",
       "  </tbody>\n",
       "</table>\n",
       "<p>100000 rows × 11 columns</p>\n",
       "</div>"
      ],
      "text/plain": [
       "            Agency Type       City      Month Victim Sex  \\\n",
       "0      Municipal Police  Anchorage    January       Male   \n",
       "1      Municipal Police  Anchorage      March       Male   \n",
       "2      Municipal Police  Anchorage      March     Female   \n",
       "3      Municipal Police  Anchorage      April       Male   \n",
       "4      Municipal Police  Anchorage      April     Female   \n",
       "...                 ...        ...        ...        ...   \n",
       "99995  Municipal Police    Jackson       July       Male   \n",
       "99996           Sheriff     Jasper  September       Male   \n",
       "99997           Sheriff  Jefferson      March     Female   \n",
       "99998           Sheriff  Jefferson       July     Female   \n",
       "99999           Sheriff  Jefferson    October       Male   \n",
       "\n",
       "                         Victim Race Victim Ethnicity Perpetrator Sex  \\\n",
       "0      Native American/Alaska Native          Unknown            Male   \n",
       "1                              White          Unknown            Male   \n",
       "2      Native American/Alaska Native          Unknown         Unknown   \n",
       "3                              White          Unknown            Male   \n",
       "4      Native American/Alaska Native          Unknown         Unknown   \n",
       "...                              ...              ...             ...   \n",
       "99995                          Black     Not Hispanic            Male   \n",
       "99996                          White         Hispanic            Male   \n",
       "99997                          White     Not Hispanic            Male   \n",
       "99998                          White     Not Hispanic            Male   \n",
       "99999                          White     Not Hispanic            Male   \n",
       "\n",
       "                    Perpetrator Race Perpetrator Ethnicity  Relationship  \\\n",
       "0      Native American/Alaska Native               Unknown  Acquaintance   \n",
       "1                              White               Unknown  Acquaintance   \n",
       "2                            Unknown               Unknown       Unknown   \n",
       "3                              White               Unknown  Acquaintance   \n",
       "4                            Unknown               Unknown       Unknown   \n",
       "...                              ...                   ...           ...   \n",
       "99995                          Black          Not Hispanic  Acquaintance   \n",
       "99996                          White              Hispanic  Acquaintance   \n",
       "99997                          White          Not Hispanic      Stranger   \n",
       "99998                          White          Not Hispanic        Family   \n",
       "99999                          White          Not Hispanic        Friend   \n",
       "\n",
       "              Weapon  \n",
       "0       Blunt Object  \n",
       "1      Strangulation  \n",
       "2            Unknown  \n",
       "3      Strangulation  \n",
       "4            Unknown  \n",
       "...              ...  \n",
       "99995        Handgun  \n",
       "99996        Shotgun  \n",
       "99997          Knife  \n",
       "99998          Knife  \n",
       "99999        Handgun  \n",
       "\n",
       "[100000 rows x 11 columns]"
      ]
     },
     "execution_count": 29,
     "metadata": {},
     "output_type": "execute_result"
    }
   ],
   "source": [
    "data[nonbinary_columns]"
   ]
  },
  {
   "cell_type": "code",
   "execution_count": 30,
   "metadata": {
    "colab": {
     "base_uri": "https://localhost:8080/"
    },
    "id": "vIEJtBkNf_qN",
    "outputId": "05b86549-e17f-462e-e376-c45774963121"
   },
   "outputs": [
    {
     "name": "stdout",
     "output_type": "stream",
     "text": [
      "Index(['Agency Type_County Police', 'Agency Type_Municipal Police',\n",
      "       'Agency Type_Regional Police', 'Agency Type_Sheriff',\n",
      "       'Agency Type_Special Police', 'Agency Type_State Police',\n",
      "       'Agency Type_Tribal Police', 'City_Abbeville', 'City_Acadia',\n",
      "       'City_Accomack',\n",
      "       ...\n",
      "       'Weapon_Firearm', 'Weapon_Gun', 'Weapon_Handgun', 'Weapon_Knife',\n",
      "       'Weapon_Poison', 'Weapon_Rifle', 'Weapon_Shotgun',\n",
      "       'Weapon_Strangulation', 'Weapon_Suffocation', 'Weapon_Unknown'],\n",
      "      dtype='object', length=1659)\n"
     ]
    }
   ],
   "source": [
    "data_nonbinary = pd.get_dummies(data[nonbinary_columns])\n",
    "print(data_nonbinary.columns)"
   ]
  },
  {
   "cell_type": "markdown",
   "metadata": {
    "id": "aD5CdL7F2LSj"
   },
   "source": [
    "#Нормализация признаков"
   ]
  },
  {
   "cell_type": "code",
   "execution_count": 31,
   "metadata": {
    "colab": {
     "base_uri": "https://localhost:8080/",
     "height": 297
    },
    "id": "G9ULMDnMzxUc",
    "outputId": "08ed0135-719b-4dbf-9f6d-3fad8fe0648c"
   },
   "outputs": [
    {
     "data": {
      "text/html": [
       "<div>\n",
       "<style scoped>\n",
       "    .dataframe tbody tr th:only-of-type {\n",
       "        vertical-align: middle;\n",
       "    }\n",
       "\n",
       "    .dataframe tbody tr th {\n",
       "        vertical-align: top;\n",
       "    }\n",
       "\n",
       "    .dataframe thead th {\n",
       "        text-align: right;\n",
       "    }\n",
       "</style>\n",
       "<table border=\"1\" class=\"dataframe\">\n",
       "  <thead>\n",
       "    <tr style=\"text-align: right;\">\n",
       "      <th></th>\n",
       "      <th>Incident</th>\n",
       "      <th>Victim Age</th>\n",
       "      <th>Perpetrator Age</th>\n",
       "      <th>Victim Count</th>\n",
       "      <th>Perpetrator Count</th>\n",
       "    </tr>\n",
       "  </thead>\n",
       "  <tbody>\n",
       "    <tr>\n",
       "      <th>count</th>\n",
       "      <td>100000.000000</td>\n",
       "      <td>100000.000000</td>\n",
       "      <td>100000.000000</td>\n",
       "      <td>100000.000000</td>\n",
       "      <td>100000.000000</td>\n",
       "    </tr>\n",
       "    <tr>\n",
       "      <th>mean</th>\n",
       "      <td>13.464350</td>\n",
       "      <td>36.247580</td>\n",
       "      <td>29.042150</td>\n",
       "      <td>0.110400</td>\n",
       "      <td>0.145850</td>\n",
       "    </tr>\n",
       "    <tr>\n",
       "      <th>std</th>\n",
       "      <td>27.021051</td>\n",
       "      <td>34.437911</td>\n",
       "      <td>11.364192</td>\n",
       "      <td>0.546347</td>\n",
       "      <td>0.476928</td>\n",
       "    </tr>\n",
       "    <tr>\n",
       "      <th>min</th>\n",
       "      <td>1.000000</td>\n",
       "      <td>1.000000</td>\n",
       "      <td>1.000000</td>\n",
       "      <td>0.000000</td>\n",
       "      <td>0.000000</td>\n",
       "    </tr>\n",
       "    <tr>\n",
       "      <th>25%</th>\n",
       "      <td>1.000000</td>\n",
       "      <td>23.000000</td>\n",
       "      <td>23.000000</td>\n",
       "      <td>0.000000</td>\n",
       "      <td>0.000000</td>\n",
       "    </tr>\n",
       "    <tr>\n",
       "      <th>50%</th>\n",
       "      <td>2.000000</td>\n",
       "      <td>31.000000</td>\n",
       "      <td>23.000000</td>\n",
       "      <td>0.000000</td>\n",
       "      <td>0.000000</td>\n",
       "    </tr>\n",
       "    <tr>\n",
       "      <th>75%</th>\n",
       "      <td>10.000000</td>\n",
       "      <td>43.000000</td>\n",
       "      <td>33.000000</td>\n",
       "      <td>0.000000</td>\n",
       "      <td>0.000000</td>\n",
       "    </tr>\n",
       "    <tr>\n",
       "      <th>max</th>\n",
       "      <td>994.000000</td>\n",
       "      <td>998.000000</td>\n",
       "      <td>99.000000</td>\n",
       "      <td>9.000000</td>\n",
       "      <td>10.000000</td>\n",
       "    </tr>\n",
       "  </tbody>\n",
       "</table>\n",
       "</div>"
      ],
      "text/plain": [
       "            Incident     Victim Age  Perpetrator Age   Victim Count  \\\n",
       "count  100000.000000  100000.000000    100000.000000  100000.000000   \n",
       "mean       13.464350      36.247580        29.042150       0.110400   \n",
       "std        27.021051      34.437911        11.364192       0.546347   \n",
       "min         1.000000       1.000000         1.000000       0.000000   \n",
       "25%         1.000000      23.000000        23.000000       0.000000   \n",
       "50%         2.000000      31.000000        23.000000       0.000000   \n",
       "75%        10.000000      43.000000        33.000000       0.000000   \n",
       "max       994.000000     998.000000        99.000000       9.000000   \n",
       "\n",
       "       Perpetrator Count  \n",
       "count      100000.000000  \n",
       "mean            0.145850  \n",
       "std             0.476928  \n",
       "min             0.000000  \n",
       "25%             0.000000  \n",
       "50%             0.000000  \n",
       "75%             0.000000  \n",
       "max            10.000000  "
      ]
     },
     "execution_count": 31,
     "metadata": {},
     "output_type": "execute_result"
    }
   ],
   "source": [
    "data_numerical = data[numerical_columns]\n",
    "data_numerical.describe()"
   ]
  },
  {
   "cell_type": "code",
   "execution_count": 32,
   "metadata": {
    "colab": {
     "base_uri": "https://localhost:8080/",
     "height": 297
    },
    "id": "RARztgbtTFsV",
    "outputId": "ea4d97d0-4aae-4fbc-eff9-54a554dd010b"
   },
   "outputs": [
    {
     "data": {
      "text/html": [
       "<div>\n",
       "<style scoped>\n",
       "    .dataframe tbody tr th:only-of-type {\n",
       "        vertical-align: middle;\n",
       "    }\n",
       "\n",
       "    .dataframe tbody tr th {\n",
       "        vertical-align: top;\n",
       "    }\n",
       "\n",
       "    .dataframe thead th {\n",
       "        text-align: right;\n",
       "    }\n",
       "</style>\n",
       "<table border=\"1\" class=\"dataframe\">\n",
       "  <thead>\n",
       "    <tr style=\"text-align: right;\">\n",
       "      <th></th>\n",
       "      <th>Incident</th>\n",
       "      <th>Victim Age</th>\n",
       "      <th>Perpetrator Age</th>\n",
       "      <th>Victim Count</th>\n",
       "      <th>Perpetrator Count</th>\n",
       "    </tr>\n",
       "  </thead>\n",
       "  <tbody>\n",
       "    <tr>\n",
       "      <th>count</th>\n",
       "      <td>1.000000e+05</td>\n",
       "      <td>1.000000e+05</td>\n",
       "      <td>1.000000e+05</td>\n",
       "      <td>1.000000e+05</td>\n",
       "      <td>1.000000e+05</td>\n",
       "    </tr>\n",
       "    <tr>\n",
       "      <th>mean</th>\n",
       "      <td>1.245795e-15</td>\n",
       "      <td>1.170301e-15</td>\n",
       "      <td>-3.243413e-15</td>\n",
       "      <td>-4.855983e-15</td>\n",
       "      <td>8.437498e-15</td>\n",
       "    </tr>\n",
       "    <tr>\n",
       "      <th>std</th>\n",
       "      <td>1.000000e+00</td>\n",
       "      <td>1.000000e+00</td>\n",
       "      <td>1.000000e+00</td>\n",
       "      <td>1.000000e+00</td>\n",
       "      <td>1.000000e+00</td>\n",
       "    </tr>\n",
       "    <tr>\n",
       "      <th>min</th>\n",
       "      <td>-4.612830e-01</td>\n",
       "      <td>-1.023511e+00</td>\n",
       "      <td>-2.467588e+00</td>\n",
       "      <td>-2.020695e-01</td>\n",
       "      <td>-3.058115e-01</td>\n",
       "    </tr>\n",
       "    <tr>\n",
       "      <th>25%</th>\n",
       "      <td>-4.612830e-01</td>\n",
       "      <td>-3.846801e-01</td>\n",
       "      <td>-5.316832e-01</td>\n",
       "      <td>-2.020695e-01</td>\n",
       "      <td>-3.058115e-01</td>\n",
       "    </tr>\n",
       "    <tr>\n",
       "      <th>50%</th>\n",
       "      <td>-4.242748e-01</td>\n",
       "      <td>-1.523780e-01</td>\n",
       "      <td>-5.316832e-01</td>\n",
       "      <td>-2.020695e-01</td>\n",
       "      <td>-3.058115e-01</td>\n",
       "    </tr>\n",
       "    <tr>\n",
       "      <th>75%</th>\n",
       "      <td>-1.282093e-01</td>\n",
       "      <td>1.960752e-01</td>\n",
       "      <td>3.482738e-01</td>\n",
       "      <td>-2.020695e-01</td>\n",
       "      <td>-3.058115e-01</td>\n",
       "    </tr>\n",
       "    <tr>\n",
       "      <th>max</th>\n",
       "      <td>3.628784e+01</td>\n",
       "      <td>2.792714e+01</td>\n",
       "      <td>6.155990e+00</td>\n",
       "      <td>1.627098e+01</td>\n",
       "      <td>2.066173e+01</td>\n",
       "    </tr>\n",
       "  </tbody>\n",
       "</table>\n",
       "</div>"
      ],
      "text/plain": [
       "           Incident    Victim Age  Perpetrator Age  Victim Count  \\\n",
       "count  1.000000e+05  1.000000e+05     1.000000e+05  1.000000e+05   \n",
       "mean   1.245795e-15  1.170301e-15    -3.243413e-15 -4.855983e-15   \n",
       "std    1.000000e+00  1.000000e+00     1.000000e+00  1.000000e+00   \n",
       "min   -4.612830e-01 -1.023511e+00    -2.467588e+00 -2.020695e-01   \n",
       "25%   -4.612830e-01 -3.846801e-01    -5.316832e-01 -2.020695e-01   \n",
       "50%   -4.242748e-01 -1.523780e-01    -5.316832e-01 -2.020695e-01   \n",
       "75%   -1.282093e-01  1.960752e-01     3.482738e-01 -2.020695e-01   \n",
       "max    3.628784e+01  2.792714e+01     6.155990e+00  1.627098e+01   \n",
       "\n",
       "       Perpetrator Count  \n",
       "count       1.000000e+05  \n",
       "mean        8.437498e-15  \n",
       "std         1.000000e+00  \n",
       "min        -3.058115e-01  \n",
       "25%        -3.058115e-01  \n",
       "50%        -3.058115e-01  \n",
       "75%        -3.058115e-01  \n",
       "max         2.066173e+01  "
      ]
     },
     "execution_count": 32,
     "metadata": {},
     "output_type": "execute_result"
    }
   ],
   "source": [
    "data_numerical = (data_numerical - data_numerical.mean(axis = 0))/data_numerical.std(axis = 0)\n",
    "data_numerical.describe()"
   ]
  },
  {
   "cell_type": "code",
   "execution_count": 33,
   "metadata": {
    "colab": {
     "base_uri": "https://localhost:8080/"
    },
    "id": "7R3cO5QBTMU8",
    "outputId": "8f0f4c5d-dacf-4bf3-c224-e3465fafaf6d"
   },
   "outputs": [
    {
     "name": "stdout",
     "output_type": "stream",
     "text": [
      "(100000, 1666)\n"
     ]
    }
   ],
   "source": [
    "data = pd.concat((data_numerical, data_nonbinary, data[binary_columns]), axis = 1)\n",
    "print(data.shape)"
   ]
  },
  {
   "cell_type": "code",
   "execution_count": 34,
   "metadata": {
    "id": "cXuJLAnM2kZ6"
   },
   "outputs": [],
   "source": [
    "# data.to_csv('normdata.csv', sep = ',')"
   ]
  },
  {
   "cell_type": "markdown",
   "metadata": {
    "id": "plQ39YoM5knf"
   },
   "source": [
    "#Отбор признаков"
   ]
  },
  {
   "cell_type": "code",
   "execution_count": 35,
   "metadata": {
    "id": "BhwOMTyOtRoY"
   },
   "outputs": [],
   "source": [
    "X = data.drop('Crime Solved', axis = 1) \n",
    "y = data['Crime Solved']\n",
    "feature_names = X.columns"
   ]
  },
  {
   "cell_type": "code",
   "execution_count": 36,
   "metadata": {
    "id": "in-NHaBc6DZP"
   },
   "outputs": [],
   "source": [
    "# X.to_csv('X.csv', sep = ',')\n",
    "# y.to_csv('y.csv', sep = ',')"
   ]
  },
  {
   "cell_type": "markdown",
   "metadata": {
    "id": "tcjZ6_FL8tkC"
   },
   "source": [
    "#Обучаем модель"
   ]
  },
  {
   "cell_type": "code",
   "execution_count": 37,
   "metadata": {
    "id": "sI9bYvcF9-S5"
   },
   "outputs": [],
   "source": [
    "# X = pd.read_csv(\"X.csv\", low_memory = False, sep = ',')"
   ]
  },
  {
   "cell_type": "code",
   "execution_count": 38,
   "metadata": {
    "id": "qD5DLgqy-DsQ"
   },
   "outputs": [],
   "source": [
    "# y = pd.read_csv(\"y.csv\", low_memory = False, sep = ',')"
   ]
  },
  {
   "cell_type": "code",
   "execution_count": 39,
   "metadata": {
    "colab": {
     "base_uri": "https://localhost:8080/"
    },
    "id": "c0IGdD5O61f6",
    "outputId": "882881f8-8c5a-4a3b-b725-965092814e04"
   },
   "outputs": [
    {
     "name": "stdout",
     "output_type": "stream",
     "text": [
      "70000 30000\n"
     ]
    }
   ],
   "source": [
    "from sklearn.model_selection import train_test_split\n",
    "X_train, X_test, y_train, y_test = train_test_split(X, y, test_size = 0.3, random_state = 42)\n",
    "\n",
    "N_train, _ = X_train.shape \n",
    "N_test,  _ = X_test.shape \n",
    "\n",
    "print(N_train, N_test)"
   ]
  },
  {
   "cell_type": "markdown",
   "metadata": {
    "id": "aNrEwspg9VQY"
   },
   "source": [
    "### KNN"
   ]
  },
  {
   "cell_type": "markdown",
   "metadata": {
    "id": "Yt4ZOMx5p8xR"
   },
   "source": [
    "Попробуем сначала для 3 соседей:"
   ]
  },
  {
   "cell_type": "code",
   "execution_count": 40,
   "metadata": {
    "colab": {
     "base_uri": "https://localhost:8080/"
    },
    "id": "As2AZyQHB8pZ",
    "outputId": "ad58998c-7e63-4724-ce70-7de2cc5dbb64"
   },
   "outputs": [
    {
     "data": {
      "text/plain": [
       "KNeighborsClassifier(n_neighbors=3)"
      ]
     },
     "execution_count": 40,
     "metadata": {},
     "output_type": "execute_result"
    }
   ],
   "source": [
    "from sklearn.neighbors import KNeighborsClassifier as KNN\n",
    "\n",
    "knn = KNN(n_neighbors = 3)\n",
    "knn.fit(X_train, y_train)"
   ]
  },
  {
   "cell_type": "markdown",
   "metadata": {
    "id": "ZHjcNgqDopfD"
   },
   "source": [
    "Посмотрим точность"
   ]
  },
  {
   "cell_type": "code",
   "execution_count": 41,
   "metadata": {
    "colab": {
     "base_uri": "https://localhost:8080/"
    },
    "id": "3laLfyh29IjK",
    "outputId": "57002fd0-28d2-42ac-b2a8-1a22ae8e1437"
   },
   "outputs": [
    {
     "data": {
      "text/plain": [
       "0.9972"
      ]
     },
     "execution_count": 41,
     "metadata": {},
     "output_type": "execute_result"
    }
   ],
   "source": [
    "from sklearn.metrics import accuracy_score\n",
    "accuracy_score(y_test, KNN(n_neighbors = 3).fit(X_train, y_train).predict(X_test))"
   ]
  },
  {
   "cell_type": "markdown",
   "metadata": {
    "id": "Hd2CJ5-aouHi"
   },
   "source": [
    "Посмотрим какое количество соседей может быть лучше (от 1 до 10)"
   ]
  },
  {
   "cell_type": "code",
   "execution_count": 42,
   "metadata": {
    "id": "p9299M7mtsnk"
   },
   "outputs": [
    {
     "data": {
      "text/plain": [
       "GridSearchCV(cv=5, estimator=KNeighborsClassifier(n_neighbors=3),\n",
       "             param_grid={'n_neighbors': range(1, 11)})"
      ]
     },
     "execution_count": 42,
     "metadata": {},
     "output_type": "execute_result"
    }
   ],
   "source": [
    "from sklearn.model_selection import GridSearchCV\n",
    "params = {'n_neighbors': range(1, 11)}\n",
    "grid_searcher = GridSearchCV(knn, params, cv=5)\n",
    "grid_searcher.fit(X_train, y_train)"
   ]
  },
  {
   "cell_type": "code",
   "execution_count": 43,
   "metadata": {
    "id": "D7fFkwdpvKce"
   },
   "outputs": [
    {
     "data": {
      "text/html": [
       "<div>\n",
       "<style scoped>\n",
       "    .dataframe tbody tr th:only-of-type {\n",
       "        vertical-align: middle;\n",
       "    }\n",
       "\n",
       "    .dataframe tbody tr th {\n",
       "        vertical-align: top;\n",
       "    }\n",
       "\n",
       "    .dataframe thead th {\n",
       "        text-align: right;\n",
       "    }\n",
       "</style>\n",
       "<table border=\"1\" class=\"dataframe\">\n",
       "  <thead>\n",
       "    <tr style=\"text-align: right;\">\n",
       "      <th></th>\n",
       "      <th>mean_fit_time</th>\n",
       "      <th>std_fit_time</th>\n",
       "      <th>mean_score_time</th>\n",
       "      <th>std_score_time</th>\n",
       "      <th>param_n_neighbors</th>\n",
       "      <th>params</th>\n",
       "      <th>split0_test_score</th>\n",
       "      <th>split1_test_score</th>\n",
       "      <th>split2_test_score</th>\n",
       "      <th>split3_test_score</th>\n",
       "      <th>split4_test_score</th>\n",
       "      <th>mean_test_score</th>\n",
       "      <th>std_test_score</th>\n",
       "      <th>rank_test_score</th>\n",
       "    </tr>\n",
       "  </thead>\n",
       "  <tbody>\n",
       "    <tr>\n",
       "      <th>0</th>\n",
       "      <td>37.740808</td>\n",
       "      <td>0.333232</td>\n",
       "      <td>816.176363</td>\n",
       "      <td>2.804393</td>\n",
       "      <td>1</td>\n",
       "      <td>{'n_neighbors': 1}</td>\n",
       "      <td>0.998571</td>\n",
       "      <td>0.997214</td>\n",
       "      <td>0.998357</td>\n",
       "      <td>0.998214</td>\n",
       "      <td>0.997929</td>\n",
       "      <td>0.998057</td>\n",
       "      <td>0.000470</td>\n",
       "      <td>3</td>\n",
       "    </tr>\n",
       "    <tr>\n",
       "      <th>1</th>\n",
       "      <td>37.843115</td>\n",
       "      <td>0.323991</td>\n",
       "      <td>949.719452</td>\n",
       "      <td>2.789413</td>\n",
       "      <td>2</td>\n",
       "      <td>{'n_neighbors': 2}</td>\n",
       "      <td>0.998643</td>\n",
       "      <td>0.998143</td>\n",
       "      <td>0.998714</td>\n",
       "      <td>0.998714</td>\n",
       "      <td>0.998714</td>\n",
       "      <td>0.998586</td>\n",
       "      <td>0.000223</td>\n",
       "      <td>1</td>\n",
       "    </tr>\n",
       "    <tr>\n",
       "      <th>2</th>\n",
       "      <td>37.802008</td>\n",
       "      <td>0.247269</td>\n",
       "      <td>1017.640631</td>\n",
       "      <td>1.761777</td>\n",
       "      <td>3</td>\n",
       "      <td>{'n_neighbors': 3}</td>\n",
       "      <td>0.997500</td>\n",
       "      <td>0.997214</td>\n",
       "      <td>0.998143</td>\n",
       "      <td>0.998071</td>\n",
       "      <td>0.998286</td>\n",
       "      <td>0.997843</td>\n",
       "      <td>0.000413</td>\n",
       "      <td>5</td>\n",
       "    </tr>\n",
       "    <tr>\n",
       "      <th>3</th>\n",
       "      <td>37.861168</td>\n",
       "      <td>0.258543</td>\n",
       "      <td>1063.378162</td>\n",
       "      <td>1.699623</td>\n",
       "      <td>4</td>\n",
       "      <td>{'n_neighbors': 4}</td>\n",
       "      <td>0.998000</td>\n",
       "      <td>0.997500</td>\n",
       "      <td>0.998500</td>\n",
       "      <td>0.998286</td>\n",
       "      <td>0.998786</td>\n",
       "      <td>0.998214</td>\n",
       "      <td>0.000440</td>\n",
       "      <td>2</td>\n",
       "    </tr>\n",
       "    <tr>\n",
       "      <th>4</th>\n",
       "      <td>37.817844</td>\n",
       "      <td>0.270543</td>\n",
       "      <td>1096.166463</td>\n",
       "      <td>1.371871</td>\n",
       "      <td>5</td>\n",
       "      <td>{'n_neighbors': 5}</td>\n",
       "      <td>0.997286</td>\n",
       "      <td>0.996357</td>\n",
       "      <td>0.998143</td>\n",
       "      <td>0.997643</td>\n",
       "      <td>0.998143</td>\n",
       "      <td>0.997514</td>\n",
       "      <td>0.000663</td>\n",
       "      <td>8</td>\n",
       "    </tr>\n",
       "    <tr>\n",
       "      <th>5</th>\n",
       "      <td>37.868884</td>\n",
       "      <td>0.314729</td>\n",
       "      <td>1122.941608</td>\n",
       "      <td>2.939431</td>\n",
       "      <td>6</td>\n",
       "      <td>{'n_neighbors': 6}</td>\n",
       "      <td>0.997929</td>\n",
       "      <td>0.997286</td>\n",
       "      <td>0.998429</td>\n",
       "      <td>0.998143</td>\n",
       "      <td>0.998214</td>\n",
       "      <td>0.998000</td>\n",
       "      <td>0.000391</td>\n",
       "      <td>4</td>\n",
       "    </tr>\n",
       "    <tr>\n",
       "      <th>6</th>\n",
       "      <td>37.836285</td>\n",
       "      <td>0.298808</td>\n",
       "      <td>1147.260050</td>\n",
       "      <td>3.635417</td>\n",
       "      <td>7</td>\n",
       "      <td>{'n_neighbors': 7}</td>\n",
       "      <td>0.997429</td>\n",
       "      <td>0.996714</td>\n",
       "      <td>0.997857</td>\n",
       "      <td>0.997429</td>\n",
       "      <td>0.997929</td>\n",
       "      <td>0.997471</td>\n",
       "      <td>0.000432</td>\n",
       "      <td>9</td>\n",
       "    </tr>\n",
       "    <tr>\n",
       "      <th>7</th>\n",
       "      <td>37.810048</td>\n",
       "      <td>0.258742</td>\n",
       "      <td>1165.916635</td>\n",
       "      <td>1.928757</td>\n",
       "      <td>8</td>\n",
       "      <td>{'n_neighbors': 8}</td>\n",
       "      <td>0.997643</td>\n",
       "      <td>0.996786</td>\n",
       "      <td>0.998071</td>\n",
       "      <td>0.997714</td>\n",
       "      <td>0.998143</td>\n",
       "      <td>0.997671</td>\n",
       "      <td>0.000484</td>\n",
       "      <td>6</td>\n",
       "    </tr>\n",
       "    <tr>\n",
       "      <th>8</th>\n",
       "      <td>37.795377</td>\n",
       "      <td>0.321043</td>\n",
       "      <td>1182.547964</td>\n",
       "      <td>2.383108</td>\n",
       "      <td>9</td>\n",
       "      <td>{'n_neighbors': 9}</td>\n",
       "      <td>0.997286</td>\n",
       "      <td>0.996143</td>\n",
       "      <td>0.997571</td>\n",
       "      <td>0.997571</td>\n",
       "      <td>0.997929</td>\n",
       "      <td>0.997300</td>\n",
       "      <td>0.000613</td>\n",
       "      <td>10</td>\n",
       "    </tr>\n",
       "    <tr>\n",
       "      <th>9</th>\n",
       "      <td>37.867749</td>\n",
       "      <td>0.179116</td>\n",
       "      <td>1198.066124</td>\n",
       "      <td>2.177143</td>\n",
       "      <td>10</td>\n",
       "      <td>{'n_neighbors': 10}</td>\n",
       "      <td>0.997500</td>\n",
       "      <td>0.996500</td>\n",
       "      <td>0.997929</td>\n",
       "      <td>0.997857</td>\n",
       "      <td>0.998000</td>\n",
       "      <td>0.997557</td>\n",
       "      <td>0.000556</td>\n",
       "      <td>7</td>\n",
       "    </tr>\n",
       "  </tbody>\n",
       "</table>\n",
       "</div>"
      ],
      "text/plain": [
       "   mean_fit_time  std_fit_time  mean_score_time  std_score_time  \\\n",
       "0      37.740808      0.333232       816.176363        2.804393   \n",
       "1      37.843115      0.323991       949.719452        2.789413   \n",
       "2      37.802008      0.247269      1017.640631        1.761777   \n",
       "3      37.861168      0.258543      1063.378162        1.699623   \n",
       "4      37.817844      0.270543      1096.166463        1.371871   \n",
       "5      37.868884      0.314729      1122.941608        2.939431   \n",
       "6      37.836285      0.298808      1147.260050        3.635417   \n",
       "7      37.810048      0.258742      1165.916635        1.928757   \n",
       "8      37.795377      0.321043      1182.547964        2.383108   \n",
       "9      37.867749      0.179116      1198.066124        2.177143   \n",
       "\n",
       "  param_n_neighbors               params  split0_test_score  \\\n",
       "0                 1   {'n_neighbors': 1}           0.998571   \n",
       "1                 2   {'n_neighbors': 2}           0.998643   \n",
       "2                 3   {'n_neighbors': 3}           0.997500   \n",
       "3                 4   {'n_neighbors': 4}           0.998000   \n",
       "4                 5   {'n_neighbors': 5}           0.997286   \n",
       "5                 6   {'n_neighbors': 6}           0.997929   \n",
       "6                 7   {'n_neighbors': 7}           0.997429   \n",
       "7                 8   {'n_neighbors': 8}           0.997643   \n",
       "8                 9   {'n_neighbors': 9}           0.997286   \n",
       "9                10  {'n_neighbors': 10}           0.997500   \n",
       "\n",
       "   split1_test_score  split2_test_score  split3_test_score  split4_test_score  \\\n",
       "0           0.997214           0.998357           0.998214           0.997929   \n",
       "1           0.998143           0.998714           0.998714           0.998714   \n",
       "2           0.997214           0.998143           0.998071           0.998286   \n",
       "3           0.997500           0.998500           0.998286           0.998786   \n",
       "4           0.996357           0.998143           0.997643           0.998143   \n",
       "5           0.997286           0.998429           0.998143           0.998214   \n",
       "6           0.996714           0.997857           0.997429           0.997929   \n",
       "7           0.996786           0.998071           0.997714           0.998143   \n",
       "8           0.996143           0.997571           0.997571           0.997929   \n",
       "9           0.996500           0.997929           0.997857           0.998000   \n",
       "\n",
       "   mean_test_score  std_test_score  rank_test_score  \n",
       "0         0.998057        0.000470                3  \n",
       "1         0.998586        0.000223                1  \n",
       "2         0.997843        0.000413                5  \n",
       "3         0.998214        0.000440                2  \n",
       "4         0.997514        0.000663                8  \n",
       "5         0.998000        0.000391                4  \n",
       "6         0.997471        0.000432                9  \n",
       "7         0.997671        0.000484                6  \n",
       "8         0.997300        0.000613               10  \n",
       "9         0.997557        0.000556                7  "
      ]
     },
     "execution_count": 43,
     "metadata": {},
     "output_type": "execute_result"
    }
   ],
   "source": [
    "df = pd.DataFrame(grid_searcher.cv_results_)\n",
    "df"
   ]
  },
  {
   "cell_type": "code",
   "execution_count": 44,
   "metadata": {
    "id": "tiPY9pWUvnJW"
   },
   "outputs": [],
   "source": [
    "means = df['mean_test_score']\n",
    "stds = df['std_test_score']\n",
    "n_neighbors = df['params'].apply(lambda x: x['n_neighbors'])"
   ]
  },
  {
   "cell_type": "code",
   "execution_count": 45,
   "metadata": {
    "id": "_759aA7GxN1E"
   },
   "outputs": [
    {
     "data": {
      "image/png": "[encoded data removed]",
      "text/plain": [
       "<Figure size 1296x576 with 1 Axes>"
      ]
     },
     "metadata": {
      "needs_background": "light"
     },
     "output_type": "display_data"
    }
   ],
   "source": [
    "plt.figure(figsize=(18, 8))\n",
    "plt.plot(n_neighbors, means)\n",
    "# plt.fill_between(range(len(means)), means + stds, means - stds, alpha = )\n",
    "plt.xlim(1, 10)\n",
    "plt.ylim(0.98, 1)\n",
    "# plt.xticks(np.arange(1, n, 2))\n",
    "plt.xlabel('Количество соседей')\n",
    "plt.ylabel('Accuracy')\n",
    "plt.grid()"
   ]
  },
  {
   "cell_type": "markdown",
   "metadata": {
    "id": "7tVzJVQzpfHr"
   },
   "source": [
    "Из графика видно, что наибольшая точность достигается при двух соседях. Попробуем запустить другой метод.\n",
    "\n",
    "### SVC"
   ]
  },
  {
   "cell_type": "code",
   "execution_count": 46,
   "metadata": {},
   "outputs": [
    {
     "name": "stdout",
     "output_type": "stream",
     "text": [
      "0.0 0.0\n"
     ]
    }
   ],
   "source": [
    "from sklearn.svm import SVC\n",
    "svc = SVC(gamma='auto')\n",
    "svc.fit(X_train, y_train)\n",
    "\n",
    "err_train = np.mean(y_train != svc.predict(X_train))\n",
    "err_test  = np.mean(y_test  != svc.predict(X_test))\n",
    "\n",
    "print(err_train, err_test)"
   ]
  },
  {
   "cell_type": "markdown",
   "metadata": {},
   "source": [
    "Вывод: ошибка нулевая, метод опорных векторов работает лучше, чем метод ближайших соседей.\n",
    "\n",
    "Попробуем ещё несколько методов и посмотрим, у какого больше точность.\n",
    "\n",
    "### Random forest"
   ]
  },
  {
   "cell_type": "code",
   "execution_count": 49,
   "metadata": {},
   "outputs": [
    {
     "name": "stdout",
     "output_type": "stream",
     "text": [
      "0.0 0.00013333333333333334\n"
     ]
    }
   ],
   "source": [
    "from sklearn import ensemble\n",
    "rf = ensemble.RandomForestClassifier(n_estimators = 1000)\n",
    "rf.fit(X_train, y_train)\n",
    "\n",
    "err_train = np.mean(y_train != rf.predict(X_train))\n",
    "err_test  = np.mean(y_test  != rf.predict(X_test))\n",
    "\n",
    "print(err_train, err_test)"
   ]
  },
  {
   "cell_type": "markdown",
   "metadata": {},
   "source": [
    "### Extremely Randomized Trees"
   ]
  },
  {
   "cell_type": "code",
   "execution_count": 50,
   "metadata": {},
   "outputs": [
    {
     "name": "stdout",
     "output_type": "stream",
     "text": [
      "0.0 6.666666666666667e-05\n"
     ]
    }
   ],
   "source": [
    "ert = ensemble.ExtraTreesClassifier(n_estimators = 100).fit(X_train, y_train)\n",
    "\n",
    "err_train = np.mean(y_train != ert.predict(X_train))\n",
    "err_test  = np.mean(y_test  != ert.predict(X_test))\n",
    "\n",
    "print(err_train, err_test)"
   ]
  },
  {
   "cell_type": "markdown",
   "metadata": {},
   "source": [
    "# Общий вывод"
   ]
  },
  {
   "cell_type": "markdown",
   "metadata": {},
   "source": [
    "Рассмотрели задачу классификации на данных об убийствах. Перед классификацией обработали (заполнили нулевые пропущенные значения)и визуализировали данные. Точность метода k ближайших соседей составила 0.9972 с тремя соседями. При подборе параметров выяснилось, что оптимальное количество соседей - 2, если брать больше, то точность уменьшается.\n",
    "При исполльзовании других методов получилось, что самый точный - метод опорных векторов, он показал нулевые ошибки. Остальные два метода сделали правильные предсказания на тестовых выборках и показали очень маленькие ошибки на тесто"
   ]
  },
  {
   "cell_type": "code",
   "execution_count": null,
   "metadata": {},
   "outputs": [],
   "source": []
  }
 ],
 "metadata": {
  "colab": {
   "collapsed_sections": [],
   "machine_shape": "hm",
   "name": "hw1_homicide_reports.ipynb",
   "provenance": []
  },
  "kernelspec": {
   "display_name": "Python 3",
   "language": "python",
   "name": "python3"
  },
  "language_info": {
   "codemirror_mode": {
    "name": "ipython",
    "version": 3
   },
   "file_extension": ".py",
   "mimetype": "text/x-python",
   "name": "python",
   "nbconvert_exporter": "python",
   "pygments_lexer": "ipython3",
   "version": "3.8.5"
  }
 },
 "nbformat": 4,
 "nbformat_minor": 1
}
